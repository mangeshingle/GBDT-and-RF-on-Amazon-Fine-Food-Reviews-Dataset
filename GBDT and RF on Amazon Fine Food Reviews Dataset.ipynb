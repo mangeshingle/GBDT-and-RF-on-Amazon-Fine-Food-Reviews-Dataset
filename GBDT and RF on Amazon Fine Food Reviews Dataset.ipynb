{
 "cells": [
  {
   "cell_type": "markdown",
   "metadata": {},
   "source": [
    "# <center> Random Forest & Gradient Boosting Decision Tree on Amazon Fine Food Reviews Dataset</center>\n",
    "___"
   ]
  },
  {
   "cell_type": "markdown",
   "metadata": {},
   "source": [
    "###  <b>Exercise</b> :\n",
    "\n",
    "1.\tDownload Amazon Fine Food Reviews dataset from Kaggle. You may have to create a Kaggle account to download data. (https://www.kaggle.com/snap/amazon-fine-food-reviews)\n",
    "2.\tSplit data into train and test using time based slicing as 70%  train & 30% test.\n",
    "3.\tPerform featurization BoW,TFIDF, Avg Word2Vec, tf-idf-Word2Vec.\n",
    "4.\tApply GridsearchCV on train data to find optimal hyperparameters for both GBDT and RF.\n",
    "5.\tApply GBDT(Gradient Boosting Decision Tree) and RF(Random Forest)  on dataset.\n",
    "6.\tTo test the performance of the model, calculate test error, train error, accuracy,precision,recall,F1-score,confusion matrix(TPR,TNR,FPR,FNR)\n",
    "7.  Write your observations in English as crisply and unambiguously as possible. Always quantify your results.\n",
    "\n"
   ]
  },
  {
   "cell_type": "markdown",
   "metadata": {},
   "source": [
    "### Information regarding data set :\n",
    "\n",
    "1. <b>Title</b>: Amazon Fine Food Reviews Data\n",
    "\n",
    "2. <b>Sources</b>: Stanford Network Analysis Project(SNAP)\n",
    "\n",
    "3. <b>Relevant Information</b>: This dataset consists of reviews of fine foods from amazon. The data span a period of more than 10 years, including all ~568,454 reviews up to October 2012(Oct 1999 - Oct 2012). Reviews include product and user information, ratings, and a plain text review.\n",
    "4.  <b>Attribute Information</b>:   \n",
    "    <b>ProductId </b>- unique identifier for the product <br/>\n",
    "    <b>UserId </b>- unqiue identifier for the user <br/>\n",
    "    <b>ProfileName </b>- name of the user <br/>\n",
    "    <b>HelpfulnessNumerator </b>- number of users who found the review helpful <br/>\n",
    "    <b>HelpfulnessDenominator </b>- number of users who indicated whether they found the review helpful or not <br/>\n",
    "    <b>Score </b>- rating between 1 and 5.( rating of 4 or 5 could be cosnidered a positive review. A review of 1 or 2 could be considered negative. A review of 3 is nuetral and ignored) <br/>\n",
    "    <b>Time </b>- timestamp for the review <br/> \n",
    "    <b>Summary </b>- brief summary of the review <br/>\n",
    "    <b>Text </b>- text of the review <br/>"
   ]
  },
  {
   "cell_type": "markdown",
   "metadata": {},
   "source": [
    "---\n",
    "\n",
    "### <b>Objective :</b> \n",
    "> <span style=\"color:blue\">It is a 2-class classification task, where we have to analyze, transform(BoW,TF-IDF,Avg Word2ec and TFIDF Word2Vec) and apply ensemble models like bagging and boosting to evaluate whether a review is positive or negative.<span>\n",
    "\n",
    "---\n"
   ]
  },
  {
   "cell_type": "code",
   "execution_count": 2,
   "metadata": {
    "scrolled": true
   },
   "outputs": [],
   "source": [
    "import warnings\n",
    "from sklearn.exceptions import DataConversionWarning\n",
    "warnings.filterwarnings(action='ignore', category=DataConversionWarning)\n",
    "warnings.filterwarnings(action='ignore', category=UserWarning)\n",
    "warnings.filterwarnings(action='ignore', category=FutureWarning)\n",
    "\n",
    "import traceback\n",
    "import sqlite3\n",
    "import itertools\n",
    "import pandas as pd\n",
    "import numpy as np\n",
    "import datetime as dt\n",
    "import matplotlib.pyplot as plt\n",
    "import seaborn as sns\n",
    "from tqdm import tqdm\n",
    "from prettytable import PrettyTable\n",
    "from sklearn import preprocessing\n",
    "from sklearn.externals import joblib\n",
    "from gensim.models import Word2Vec\n",
    "from gensim.models import KeyedVectors\n",
    "from gensim.models import word2vec\n",
    "from sklearn.feature_extraction.text import CountVectorizer\n",
    "from sklearn.feature_extraction.text import TfidfVectorizer\n",
    "from sklearn.model_selection import train_test_split\n",
    "from sklearn.metrics import accuracy_score\n",
    "from sklearn.metrics import confusion_matrix\n",
    "from sklearn.metrics import precision_score\n",
    "from sklearn.metrics import f1_score\n",
    "from sklearn.metrics import recall_score\n",
    "from sklearn.metrics import classification_report\n",
    "from sklearn.metrics import roc_auc_score\n",
    "from sklearn.metrics import roc_curve\n",
    "from sklearn.model_selection import GridSearchCV\n",
    "from sklearn.model_selection import TimeSeriesSplit\n",
    "from sklearn.ensemble import RandomForestClassifier\n",
    "from xgboost import XGBClassifier"
   ]
  },
  {
   "cell_type": "markdown",
   "metadata": {},
   "source": [
    "### (1) Load dataset :"
   ]
  },
  {
   "cell_type": "code",
   "execution_count": 3,
   "metadata": {
    "scrolled": false
   },
   "outputs": [
    {
     "name": "stdout",
     "output_type": "stream",
     "text": [
      "Dataset Shape : \n",
      " (150000, 11)\n",
      "\n",
      "Column Names: \n",
      " Index(['Id', 'ProductId', 'UserId', 'ProfileName', 'HelpfulnessNumerator',\n",
      "       'HelpfulnessDenominator', 'Score', 'Time', 'Summary', 'Text',\n",
      "       'CleanedText'],\n",
      "      dtype='object')\n",
      "\n",
      "Target Class label : \n",
      "positive    127267\n",
      "negative     22733\n",
      "Name: Score, dtype: int64\n",
      "\n"
     ]
    },
    {
     "data": {
      "image/png": "[encoded data removed]",
      "text/plain": [
       "<Figure size 360x360 with 1 Axes>"
      ]
     },
     "metadata": {
      "needs_background": "light"
     },
     "output_type": "display_data"
    },
    {
     "data": {
      "text/html": [
       "<div>\n",
       "<style scoped>\n",
       "    .dataframe tbody tr th:only-of-type {\n",
       "        vertical-align: middle;\n",
       "    }\n",
       "\n",
       "    .dataframe tbody tr th {\n",
       "        vertical-align: top;\n",
       "    }\n",
       "\n",
       "    .dataframe thead th {\n",
       "        text-align: right;\n",
       "    }\n",
       "</style>\n",
       "<table border=\"1\" class=\"dataframe\">\n",
       "  <thead>\n",
       "    <tr style=\"text-align: right;\">\n",
       "      <th></th>\n",
       "      <th>Id</th>\n",
       "      <th>ProductId</th>\n",
       "      <th>UserId</th>\n",
       "      <th>ProfileName</th>\n",
       "      <th>HelpfulnessNumerator</th>\n",
       "      <th>HelpfulnessDenominator</th>\n",
       "      <th>Score</th>\n",
       "      <th>Time</th>\n",
       "      <th>Summary</th>\n",
       "      <th>Text</th>\n",
       "      <th>CleanedText</th>\n",
       "    </tr>\n",
       "  </thead>\n",
       "  <tbody>\n",
       "    <tr>\n",
       "      <th>250</th>\n",
       "      <td>374359</td>\n",
       "      <td>B00004CI84</td>\n",
       "      <td>A344SMIA5JECGM</td>\n",
       "      <td>Vincent P. Ross</td>\n",
       "      <td>1</td>\n",
       "      <td>2</td>\n",
       "      <td>positive</td>\n",
       "      <td>1999-12-06 05:30:00</td>\n",
       "      <td>A modern day fairy tale</td>\n",
       "      <td>A twist of rumplestiskin captured on film, sta...</td>\n",
       "      <td>twist rumplestiskin captur film star michael k...</td>\n",
       "    </tr>\n",
       "    <tr>\n",
       "      <th>383</th>\n",
       "      <td>451855</td>\n",
       "      <td>B00004CXX9</td>\n",
       "      <td>AJH6LUC1UT1ON</td>\n",
       "      <td>The Phantom of the Opera</td>\n",
       "      <td>0</td>\n",
       "      <td>0</td>\n",
       "      <td>positive</td>\n",
       "      <td>2000-01-03 05:30:00</td>\n",
       "      <td>FANTASTIC!</td>\n",
       "      <td>Beetlejuice is an excellent and funny movie. K...</td>\n",
       "      <td>beetlejuic excel funni movi keaton hilari wack...</td>\n",
       "    </tr>\n",
       "    <tr>\n",
       "      <th>369</th>\n",
       "      <td>374343</td>\n",
       "      <td>B00004CI84</td>\n",
       "      <td>A1B2IZU1JLZA6</td>\n",
       "      <td>Wes</td>\n",
       "      <td>19</td>\n",
       "      <td>23</td>\n",
       "      <td>negative</td>\n",
       "      <td>2000-01-19 05:30:00</td>\n",
       "      <td>WARNING: CLAMSHELL EDITION IS EDITED TV VERSION</td>\n",
       "      <td>I, myself always enjoyed this movie, it's very...</td>\n",
       "      <td>alway enjoy movi funni entertain didnt hesit p...</td>\n",
       "    </tr>\n",
       "    <tr>\n",
       "      <th>268</th>\n",
       "      <td>374450</td>\n",
       "      <td>B00004CI84</td>\n",
       "      <td>ACJR7EQF9S6FP</td>\n",
       "      <td>Jeremy Robertson</td>\n",
       "      <td>2</td>\n",
       "      <td>3</td>\n",
       "      <td>positive</td>\n",
       "      <td>2000-02-26 05:30:00</td>\n",
       "      <td>Bettlejuice...Bettlejuice...BETTLEJUICE!</td>\n",
       "      <td>What happens when you say his name three times...</td>\n",
       "      <td>happen say name three time michael keaten star...</td>\n",
       "    </tr>\n",
       "    <tr>\n",
       "      <th>350</th>\n",
       "      <td>374400</td>\n",
       "      <td>B00004CI84</td>\n",
       "      <td>A2DEE7F9XKP3ZR</td>\n",
       "      <td>jerome</td>\n",
       "      <td>0</td>\n",
       "      <td>3</td>\n",
       "      <td>positive</td>\n",
       "      <td>2000-06-03 05:30:00</td>\n",
       "      <td>Research - Beatlejuice video - French version</td>\n",
       "      <td>I'm getting crazy.I'm looking for Beatlejuice ...</td>\n",
       "      <td>get crazi look beatlejuic french version video...</td>\n",
       "    </tr>\n",
       "  </tbody>\n",
       "</table>\n",
       "</div>"
      ],
      "text/plain": [
       "         Id   ProductId          UserId               ProfileName  \\\n",
       "250  374359  B00004CI84  A344SMIA5JECGM           Vincent P. Ross   \n",
       "383  451855  B00004CXX9   AJH6LUC1UT1ON  The Phantom of the Opera   \n",
       "369  374343  B00004CI84   A1B2IZU1JLZA6                       Wes   \n",
       "268  374450  B00004CI84   ACJR7EQF9S6FP          Jeremy Robertson   \n",
       "350  374400  B00004CI84  A2DEE7F9XKP3ZR                    jerome   \n",
       "\n",
       "     HelpfulnessNumerator  HelpfulnessDenominator     Score  \\\n",
       "250                     1                       2  positive   \n",
       "383                     0                       0  positive   \n",
       "369                    19                      23  negative   \n",
       "268                     2                       3  positive   \n",
       "350                     0                       3  positive   \n",
       "\n",
       "                   Time                                          Summary  \\\n",
       "250 1999-12-06 05:30:00                          A modern day fairy tale   \n",
       "383 2000-01-03 05:30:00                                       FANTASTIC!   \n",
       "369 2000-01-19 05:30:00  WARNING: CLAMSHELL EDITION IS EDITED TV VERSION   \n",
       "268 2000-02-26 05:30:00         Bettlejuice...Bettlejuice...BETTLEJUICE!   \n",
       "350 2000-06-03 05:30:00    Research - Beatlejuice video - French version   \n",
       "\n",
       "                                                  Text  \\\n",
       "250  A twist of rumplestiskin captured on film, sta...   \n",
       "383  Beetlejuice is an excellent and funny movie. K...   \n",
       "369  I, myself always enjoyed this movie, it's very...   \n",
       "268  What happens when you say his name three times...   \n",
       "350  I'm getting crazy.I'm looking for Beatlejuice ...   \n",
       "\n",
       "                                           CleanedText  \n",
       "250  twist rumplestiskin captur film star michael k...  \n",
       "383  beetlejuic excel funni movi keaton hilari wack...  \n",
       "369  alway enjoy movi funni entertain didnt hesit p...  \n",
       "268  happen say name three time michael keaten star...  \n",
       "350  get crazi look beatlejuic french version video...  "
      ]
     },
     "execution_count": 3,
     "metadata": {},
     "output_type": "execute_result"
    }
   ],
   "source": [
    "# This dataset is already gone through data deduplication and text preprocessing, so it is approx ~364K\n",
    "\n",
    "# For Data Cleaning Steps follow this link -\n",
    "# ipython notebook - https://drive.google.com/open?id=1JXCva5vXdIPgHbfNdD9sgnySqELoVtpy\n",
    "# dataset - https://drive.google.com/open?id=1IoDoTT8TfDu53N6cyKg6xVCU-FDPHyIF\n",
    "\n",
    "# For Text Preporcessing Steps follow this link -\n",
    "# ipython notebook - https://drive.google.com/open?id=18-AkTzzEhCwM_hflIbDNBMAP-imX4k4i\n",
    "# dataset - https://drive.google.com/open?id=1SfDwwXFhDpjgtfIE5O_E80SO89xRc8Sa\n",
    "\n",
    "# Load dataset\n",
    "def load_review_dataset():\n",
    "    # Create connection object to load sqlite dataset\n",
    "    connection = sqlite3.connect('finalDataSet.sqlite')\n",
    "\n",
    "    # Load data into pandas dataframe.\n",
    "    reviews_df = pd.read_sql_query(\"\"\" SELECT * FROM Reviews \"\"\",connection)\n",
    "\n",
    "    # Drop index column \n",
    "    reviews_df = reviews_df.drop(columns=['index'])\n",
    "    \n",
    "   \n",
    "    # Take sample of 150K reviews, to reduce training time.     \n",
    "    reviews_df = reviews_df.sample(150000)\n",
    "        \n",
    "    # Convert timestamp to datetime.\n",
    "    reviews_df['Time'] = reviews_df[['Time']].applymap(lambda x: dt.datetime.fromtimestamp(x))\n",
    "\n",
    "    # Sort the data on the basis of time.\n",
    "    reviews_df = reviews_df.sort_values(by=['Time'])\n",
    "\n",
    "    print(\"Dataset Shape : \\n\",reviews_df.shape)\n",
    "    print(\"\\nColumn Names: \\n\",reviews_df.columns)\n",
    "    print(\"\\nTarget Class label : \")\n",
    "    print(reviews_df['Score'].value_counts())\n",
    "    print()   \n",
    "    \n",
    "    return reviews_df\n",
    "\n",
    "\n",
    "# Load 'finalDataSet.sqlite' in panda's daraframe.\n",
    "reviews_df = load_review_dataset()\n",
    "\n",
    "# Split data into train and test\n",
    "X_TRAIN, X_TEST, Y_TRAIN, Y_TEST = train_test_split(reviews_df['CleanedText'].values,\n",
    "                                                    reviews_df['Score'].values,\n",
    "                                                    test_size=0.3,\n",
    "                                                    shuffle=False,\n",
    "                                                    random_state=0)\n",
    "\n",
    "# Plot score\n",
    "sns.catplot(x =\"Score\",kind='count',data=reviews_df,height=5)\n",
    "plt.title(\"Score Count\", fontsize=18)\n",
    "plt.show()\n",
    "reviews_df.head()"
   ]
  },
  {
   "cell_type": "code",
   "execution_count": 4,
   "metadata": {
    "scrolled": true
   },
   "outputs": [],
   "source": [
    "###--- All utility variables and functions(After importing all the necessary packages, always run this cell first.) ---###\n",
    "\n",
    "# Hyperparameter list_n_estimators\n",
    "list_n_estimators = []\n",
    "\n",
    "# Training Error\n",
    "train_error = []\n",
    "\n",
    "# Test Error\n",
    "test_error = []\n",
    "\n",
    "\n",
    "def plot_report_confusion_matrix(confusion_matrix, classes,\n",
    "                          normalize=False,\n",
    "                          title='Confusion matrix',\n",
    "                          cmap=plt.cm.Blues):    \n",
    "    plt.figure()\n",
    "    plt.imshow(confusion_matrix, interpolation='nearest', cmap=cmap)\n",
    "    plt.title(title)\n",
    "    plt.colorbar()\n",
    "    tick_marks = np.arange(len(classes))\n",
    "    plt.xticks(tick_marks, classes, rotation=45)\n",
    "    plt.yticks(tick_marks, classes)\n",
    "\n",
    "    fmt = '.2f' if normalize else 'd'\n",
    "    thresh = confusion_matrix.max() / 2.\n",
    "    for i, j in itertools.product(range(confusion_matrix.shape[0]), range(confusion_matrix.shape[1])):\n",
    "        plt.text(j, i, format(confusion_matrix[i, j], fmt),\n",
    "                 horizontalalignment=\"center\",\n",
    "                 color=\"white\" if confusion_matrix[i, j] > thresh else \"black\")\n",
    "\n",
    "    plt.ylabel('True label')\n",
    "    plt.xlabel('Predicted label')\n",
    "    plt.tight_layout()\n",
    "    plt.show()\n",
    "    \n",
    "    TN = confusion_matrix[0,0]       \n",
    "    FP = confusion_matrix[0,1]  \n",
    "    FN = confusion_matrix[1,0]\n",
    "    TP = confusion_matrix[1,1]\n",
    "    \n",
    "\n",
    "    # Sensitivity, hit rate, recall, or true positive rate\n",
    "    TPR = TP/(TP+FN)\n",
    "    \n",
    "    # Specificity or true negative rate\n",
    "    TNR = TN/(TN+FP)  \n",
    "    \n",
    "    # Fall out or false positive rate\n",
    "    FPR = FP/(FP+TN)\n",
    "    \n",
    "    # False negative rate\n",
    "    FNR = FN/(TP+FN)\n",
    "    \n",
    "    # Overall accuracy\n",
    "    ACC = (TP+TN)/(TP+FP+FN+TN)\n",
    "    \n",
    "    print()\n",
    "    # Pretty table instance\n",
    "    ptable = PrettyTable()\n",
    "    ptable.title = \"Confusion Matrix Report\"\n",
    "    ptable.field_names = ['Term','Value']\n",
    "    ptable.add_row([\"TP (True Positive)\",TP])\n",
    "    ptable.add_row([\"TN (True Negative)\",TN])\n",
    "    ptable.add_row([\"FP (False Positive)\",FP])\n",
    "    ptable.add_row([\"FN (False Negative)\",FN])\n",
    "    ptable.add_row([\"TPR (True Positive Rate)= TP/(TP+FN))\",\"{0:.2f}\".format(TPR)])\n",
    "    ptable.add_row([\"TNR (True Negative Rate)= TN/(TN+FP))\",\"{0:.2f}\".format(TNR)])\n",
    "    ptable.add_row([\"FPR (False Positive Rate)= FP/(FP+TN))\",\"{0:.2f}\".format(FPR)])\n",
    "    ptable.add_row([\"FNR (False Negative Rate)= FN/(TP+FN))\",\"{0:.2f}\".format(FNR)])\n",
    "    ptable.add_row([\"ACC (Accuracy)= (TP+TN)/(TP+FP+FN+TN))\",\"{0:.2f}%\".format(ACC*100)])\n",
    "    \n",
    "    # Print pretty table values\n",
    "    print(ptable)\n",
    "\n",
    "\n",
    "def performance_measure(classifier,train_feature,test_feature):\n",
    "    print(\"-------------------------- {0} --------------------------\".format(type(classifier).__name__))           \n",
    "            \n",
    "    # Predict target class label\n",
    "    predicted_y_test = classifier.predict(test_feature)\n",
    "    \n",
    "    # Predict train class label\n",
    "    predicted_y_train = classifier.predict(train_feature)\n",
    "            \n",
    "    ptable = PrettyTable()\n",
    "    ptable.title = \"GridSearchCV\"                    \n",
    "    ptable.field_names = [\"Hyperparameter (n_estimators)\",\"Scoring\",\"Mean\",\"Variance\"]\n",
    "\n",
    "    list_means = classifier.cv_results_['mean_test_score']\n",
    "    list_stds = classifier.cv_results_['std_test_score']\n",
    "    list_params = classifier.cv_results_['params']   \n",
    "       \n",
    "    for mean, std, params in zip(list_means, list_stds, list_params):                \n",
    "        ptable.add_row([params['n_estimators'],\"Accuracy\", \"{0:.2f}\".format(mean), \"{0:.2f}\".format(std*2)])\n",
    "\n",
    "               \n",
    "    print()\n",
    "    print(ptable)\n",
    "    print()\n",
    "\n",
    "    optimal_n_estimators = classifier.best_params_['n_estimators']   \n",
    "    train_accuracy = accuracy_score(Y_TRAIN, predicted_y_train)\n",
    "    test_accuracy = accuracy_score(Y_TEST, predicted_y_test)\n",
    "    \n",
    "    list_n_estimators.append(optimal_n_estimators)    \n",
    "    \n",
    "    test_error.append(1 - test_accuracy)\n",
    "    train_error.append(1 - train_accuracy)    \n",
    "             \n",
    "    # Print Optimal hyperparameter and corresponding accuracy\n",
    "    ptable = PrettyTable()\n",
    "    ptable.title = \"Optimal hyperparameter & Testing accuracy score\"\n",
    "    ptable.field_names=[\"Cross Validation\",\"Optimal Hyperparameter (n_estimators)\",\"Accuracy(%)\"]\n",
    "    ptable.add_row([type(classifier).__name__ ,optimal_n_estimators,\"{0:.2f}\".format(classifier.best_score_*100)])\n",
    "    print(ptable)  \n",
    "            \n",
    "    # Print classification report\n",
    "    print()          \n",
    "    ptable = PrettyTable()\n",
    "    ptable.title = \"Classification Report with n_estimator = {0}\".format(optimal_n_estimators)\n",
    "    ptable.field_names = [\"Class Lable/Averages\",\"Precision\", \"Recall\",\"F1-Score\",\"Support\"]\n",
    "    report_dict = classification_report(Y_TEST, predicted_y_test,output_dict = True)\n",
    "    for key , value in report_dict.items():        \n",
    "        inner_dict = value        \n",
    "        ptable.add_row([key,\n",
    "                        \"{0:.2f}\".format(inner_dict['precision']),\n",
    "                        \"{0:.2f}\".format(inner_dict['recall']),\n",
    "                        \"{0:.2f}\".format(inner_dict['f1-score']),\n",
    "                        \"{0:.2f}\".format(inner_dict['support'])])\n",
    "            \n",
    "    print(ptable)\n",
    "           \n",
    "    # Calculate and plot confusion matrix\n",
    "    cnf_mat = confusion_matrix(Y_TEST, predicted_y_test)            \n",
    "    plot_report_confusion_matrix(cnf_mat, classes=[\"negative\", \"positive\"],title='Confusion Matrix')\n",
    "    print()        \n",
    "    print()\n",
    "    \n",
    "    \n",
    "def conclude_RF():\n",
    "    ptable=PrettyTable()\n",
    "    ptable.title = \"*** Conclusion - Random Forest ***\"\n",
    "    ptable.field_names=[\"CV\",\"Model\",\"Hyperparameter 'n_estimators'\",\"Train Error\",\"Test Error\"]\n",
    "    ptable.add_row([\"GridSearchCV\",\n",
    "                    \"BOW:RF\",\n",
    "                    list_n_estimators[0],                \n",
    "                    str(round(train_error[0], 2)*100)+\"%\",\n",
    "                    str(round(test_error[0], 2)*100)+\"%\"])\n",
    "                \n",
    "    ptable.add_row([\"GridSearchCV\",\n",
    "                    \"TFIDF:RF\",\n",
    "                    list_n_estimators[1],                    \n",
    "                    str(round(train_error[1], 2)*100)+\"%\",\n",
    "                    str(round(test_error[1], 2)*100)+\"%\"])\n",
    "\n",
    "    ptable.add_row([\"GridSearchCV\",\n",
    "                    \"AVG-WORD2VEC:RF\",\n",
    "                    list_n_estimators[2],                    \n",
    "                    str(round(train_error[2], 2)*100)+\"%\",\n",
    "                    str(round(test_error[2], 2)*100)+\"%\"])\n",
    "                        \n",
    "    ptable.add_row([\"GridSearchCV\",\n",
    "                    \"TFIDF-WORD2VEC:RF\",\n",
    "                    list_n_estimators[3],                    \n",
    "                    str(round(train_error[3], 2)*100)+\"%\",\n",
    "                    str(round(test_error[3], 2)*100)+\"%\"])\n",
    "\n",
    "    print(ptable)\n",
    "\n",
    "\n",
    "\n",
    "def conclude_GBDT():\n",
    "    ptable=PrettyTable()\n",
    "    ptable.title = \"*** Conclusion - GBDT(XGBOOST) ***\"\n",
    "    ptable.field_names=[\"Model\",\"n_estimators\",\"learning_rate\",\"max_depth\",\"Train ROC-AUC Score\",\"Test ROC-AUC Score\"]\n",
    "    ptable.add_row([\"BOW:XGBOOST\",\n",
    "                    list_n_estimators[0],\n",
    "                    list_learning_rate[0],   \n",
    "                    list_max_depth[0],   \n",
    "                    train_roc_auc_score[0],\n",
    "                    test_roc_auc_score[0]])\n",
    "                \n",
    "    ptable.add_row([\"TFIDF:XGBOOST\",\n",
    "                    list_n_estimators[1],\n",
    "                    list_learning_rate[1],   \n",
    "                    list_max_depth[1],   \n",
    "                    train_roc_auc_score[1],\n",
    "                    test_roc_auc_score[1]])\n",
    "\n",
    "    ptable.add_row([\"AVG-WORD2VEC:XGBOOST\",\n",
    "                    list_n_estimators[2],\n",
    "                    list_learning_rate[2],   \n",
    "                    list_max_depth[2],   \n",
    "                    train_roc_auc_score[2],\n",
    "                    test_roc_auc_score[2]])\n",
    "                        \n",
    "    ptable.add_row([\"TFIDF-WORD2VEC:XGBOOST\",\n",
    "                    list_n_estimators[3],\n",
    "                    list_learning_rate[3],   \n",
    "                    list_max_depth[3],   \n",
    "                    train_roc_auc_score[3],\n",
    "                    test_roc_auc_score[3]])\n",
    "\n",
    "    print(ptable)\n"
   ]
  },
  {
   "cell_type": "markdown",
   "metadata": {},
   "source": [
    "<br/><br/>"
   ]
  },
  {
   "cell_type": "markdown",
   "metadata": {},
   "source": [
    "<br/>\n",
    "\n",
    "###  ------------------- Ensemble Model : Bagging ( Random Forest )  -------------------\n"
   ]
  },
  {
   "cell_type": "code",
   "execution_count": 5,
   "metadata": {
    "scrolled": true
   },
   "outputs": [],
   "source": [
    "# Ideal values of n_estimators-More information http://scikit-learn.org/stable/modules/ensemble.html#parameters\n",
    "parameters = {'n_estimators':[100,200,300,400,500,600,700,800,900,1000]}"
   ]
  },
  {
   "cell_type": "markdown",
   "metadata": {},
   "source": [
    "### (2) Convert review text to vector representation :\n",
    "#### (2.1) Bag of Words (BoW) :"
   ]
  },
  {
   "cell_type": "code",
   "execution_count": 6,
   "metadata": {},
   "outputs": [
    {
     "data": {
      "text/plain": [
       "RandomForestClassifier(bootstrap=True, class_weight='balanced_subsample',\n",
       "            criterion='gini', max_depth=None, max_features='auto',\n",
       "            max_leaf_nodes=None, min_impurity_decrease=0.0,\n",
       "            min_impurity_split=None, min_samples_leaf=1,\n",
       "            min_samples_split=2, min_weight_fraction_leaf=0.0,\n",
       "            n_estimators='warn', n_jobs=-1, oob_score=False,\n",
       "            random_state=None, verbose=0, warm_start=False)"
      ]
     },
     "execution_count": 6,
     "metadata": {},
     "output_type": "execute_result"
    }
   ],
   "source": [
    "# Instantiate Random Forest\n",
    "randomForestClassifier = RandomForestClassifier(class_weight=\"balanced_subsample\",n_jobs=-1)\n",
    "randomForestClassifier"
   ]
  },
  {
   "cell_type": "code",
   "execution_count": 7,
   "metadata": {
    "scrolled": true
   },
   "outputs": [
    {
     "name": "stdout",
     "output_type": "stream",
     "text": [
      "\n",
      "The type of count vectorizer  <class 'scipy.sparse.csr.csr_matrix'>\n",
      "The shape of train matrix  (105000, 46035)\n",
      "The number of unique words in train matrix  46035\n",
      "Wall time: 6.52 s\n"
     ]
    }
   ],
   "source": [
    "%%time\n",
    "\n",
    "# Instantiate CountVectorizer\n",
    "bow_count_vectorizer = CountVectorizer()\n",
    "\n",
    "# Tokenize and build vocab\n",
    "bow_count_vectorizer.fit(X_TRAIN)\n",
    "\n",
    "# Encode document\n",
    "x_train_matrix = bow_count_vectorizer.transform(X_TRAIN)\n",
    "x_test_matrix = bow_count_vectorizer.transform(X_TEST)\n",
    "\n",
    "print(\"\\nThe type of count vectorizer \",type(x_train_matrix))\n",
    "print(\"The shape of train matrix \",x_train_matrix.get_shape())\n",
    "print(\"The number of unique words in train matrix \", x_train_matrix.get_shape()[1])"
   ]
  },
  {
   "cell_type": "code",
   "execution_count": 8,
   "metadata": {
    "scrolled": false
   },
   "outputs": [
    {
     "name": "stdout",
     "output_type": "stream",
     "text": [
      "Fitting 3 folds for each of 10 candidates, totalling 30 fits\n"
     ]
    },
    {
     "name": "stderr",
     "output_type": "stream",
     "text": [
      "[Parallel(n_jobs=-1)]: Using backend LokyBackend with 6 concurrent workers.\n",
      "[Parallel(n_jobs=-1)]: Done  30 out of  30 | elapsed: 72.7min finished\n"
     ]
    },
    {
     "name": "stdout",
     "output_type": "stream",
     "text": [
      "Best Hyperparameter 'n_estimator' :  100\n",
      "Accuracy on BoW : 86.15%\n",
      "-------------------------- GridSearchCV --------------------------\n",
      "\n",
      "+------------------------------------------------------------+\n",
      "|                        GridSearchCV                        |\n",
      "+-------------------------------+----------+------+----------+\n",
      "| Hyperparameter (n_estimators) | Scoring  | Mean | Variance |\n",
      "+-------------------------------+----------+------+----------+\n",
      "|              100              | Accuracy | 0.86 |   0.01   |\n",
      "|              200              | Accuracy | 0.86 |   0.01   |\n",
      "|              300              | Accuracy | 0.86 |   0.01   |\n",
      "|              400              | Accuracy | 0.86 |   0.01   |\n",
      "|              500              | Accuracy | 0.86 |   0.01   |\n",
      "|              600              | Accuracy | 0.86 |   0.01   |\n",
      "|              700              | Accuracy | 0.86 |   0.01   |\n",
      "|              800              | Accuracy | 0.86 |   0.01   |\n",
      "|              900              | Accuracy | 0.86 |   0.01   |\n",
      "|              1000             | Accuracy | 0.86 |   0.01   |\n",
      "+-------------------------------+----------+------+----------+\n",
      "\n",
      "+------------------------------------------------------------------------+\n",
      "|            Optimal hyperparameter & Testing accuracy score             |\n",
      "+------------------+---------------------------------------+-------------+\n",
      "| Cross Validation | Optimal Hyperparameter (n_estimators) | Accuracy(%) |\n",
      "+------------------+---------------------------------------+-------------+\n",
      "|   GridSearchCV   |                  100                  |    86.15    |\n",
      "+------------------+---------------------------------------+-------------+\n",
      "\n",
      "+-----------------------------------------------------------------+\n",
      "|           Classification Report with n_estimator = 100          |\n",
      "+----------------------+-----------+--------+----------+----------+\n",
      "| Class Lable/Averages | Precision | Recall | F1-Score | Support  |\n",
      "+----------------------+-----------+--------+----------+----------+\n",
      "|       negative       |    0.97   |  0.19  |   0.32   | 7569.00  |\n",
      "|       positive       |    0.86   |  1.00  |   0.92   | 37431.00 |\n",
      "|      micro avg       |    0.86   |  0.86  |   0.86   | 45000.00 |\n",
      "|      macro avg       |    0.91   |  0.59  |   0.62   | 45000.00 |\n",
      "|     weighted avg     |    0.88   |  0.86  |   0.82   | 45000.00 |\n",
      "+----------------------+-----------+--------+----------+----------+\n"
     ]
    },
    {
     "data": {
      "image/png": "[encoded data removed]",
      "text/plain": [
       "<Figure size 432x288 with 2 Axes>"
      ]
     },
     "metadata": {
      "needs_background": "light"
     },
     "output_type": "display_data"
    },
    {
     "name": "stdout",
     "output_type": "stream",
     "text": [
      "\n",
      "+-------------------------------------------------+\n",
      "|             Confusion Matrix Report             |\n",
      "+----------------------------------------+--------+\n",
      "|                  Term                  | Value  |\n",
      "+----------------------------------------+--------+\n",
      "|           TP (True Positive)           | 37387  |\n",
      "|           TN (True Negative)           |  1443  |\n",
      "|          FP (False Positive)           |  6126  |\n",
      "|          FN (False Negative)           |   44   |\n",
      "| TPR (True Positive Rate)= TP/(TP+FN))  |  1.00  |\n",
      "| TNR (True Negative Rate)= TN/(TN+FP))  |  0.19  |\n",
      "| FPR (False Positive Rate)= FP/(FP+TN)) |  0.81  |\n",
      "| FNR (False Negative Rate)= FN/(TP+FN)) |  0.00  |\n",
      "| ACC (Accuracy)= (TP+TN)/(TP+FP+FN+TN)) | 86.29% |\n",
      "+----------------------------------------+--------+\n",
      "\n",
      "\n",
      "Wall time: 1h 13min 41s\n"
     ]
    }
   ],
   "source": [
    "%%time\n",
    "\n",
    "# Instantiate Random Forest\n",
    "randomForestClassifier = RandomForestClassifier(class_weight=\"balanced_subsample\",n_jobs=-1)\n",
    "\n",
    "# Grid search cross Validation on bow\n",
    "gscv = GridSearchCV(randomForestClassifier, \n",
    "                    scoring=\"accuracy\",\n",
    "                    param_grid=parameters,                    \n",
    "                    cv = TimeSeriesSplit(n_splits=3),\n",
    "                    verbose=1, \n",
    "                    n_jobs=-1)\n",
    "# Fit the model\n",
    "gscv.fit(x_train_matrix,Y_TRAIN)\n",
    "\n",
    "print(\"Best Hyperparameter 'n_estimator' : \",gscv.best_params_.get('n_estimators'))\n",
    "print(\"Accuracy on BoW : %.2f%%\"%(gscv.best_score_*100))\n",
    "\n",
    "# Perform performance meausre,plot and draw reports.\n",
    "performance_measure(gscv,x_train_matrix,x_test_matrix)"
   ]
  },
  {
   "cell_type": "markdown",
   "metadata": {},
   "source": [
    "#### (2.2) Term Frequency - Inverse Document Frequency (TF-IDF) :"
   ]
  },
  {
   "cell_type": "code",
   "execution_count": 9,
   "metadata": {},
   "outputs": [
    {
     "data": {
      "text/plain": [
       "RandomForestClassifier(bootstrap=True, class_weight='balanced_subsample',\n",
       "            criterion='gini', max_depth=None, max_features='auto',\n",
       "            max_leaf_nodes=None, min_impurity_decrease=0.0,\n",
       "            min_impurity_split=None, min_samples_leaf=1,\n",
       "            min_samples_split=2, min_weight_fraction_leaf=0.0,\n",
       "            n_estimators='warn', n_jobs=-1, oob_score=False,\n",
       "            random_state=None, verbose=0, warm_start=False)"
      ]
     },
     "execution_count": 9,
     "metadata": {},
     "output_type": "execute_result"
    }
   ],
   "source": [
    "# Instantiate Random Forest\n",
    "randomForestClassifier = RandomForestClassifier(class_weight=\"balanced_subsample\",n_jobs=-1)\n",
    "randomForestClassifier"
   ]
  },
  {
   "cell_type": "code",
   "execution_count": 10,
   "metadata": {
    "scrolled": true
   },
   "outputs": [
    {
     "name": "stdout",
     "output_type": "stream",
     "text": [
      "\n",
      "The type of count vectorizer  <class 'scipy.sparse.csr.csr_matrix'>\n",
      "The shape of train matrix  (105000, 239302)\n",
      "The number of unique words in train matrix  239302\n",
      "Wall time: 18.4 s\n"
     ]
    }
   ],
   "source": [
    "%%time\n",
    "# Instantiate TfidfVectorizer\n",
    "tfidf_vectorizer = TfidfVectorizer(min_df = 3,ngram_range=(1,2))\n",
    "\n",
    "# Tokenize and build vocab\n",
    "tfidf_vectorizer.fit(X_TRAIN)\n",
    "\n",
    "# Encode document\n",
    "x_train_matrix = tfidf_vectorizer.transform(X_TRAIN)\n",
    "x_test_matrix = tfidf_vectorizer.transform(X_TEST)\n",
    "\n",
    "print(\"\\nThe type of count vectorizer \",type(x_train_matrix))\n",
    "print(\"The shape of train matrix \",x_train_matrix.get_shape())\n",
    "print(\"The number of unique words in train matrix \", x_train_matrix.get_shape()[1])"
   ]
  },
  {
   "cell_type": "code",
   "execution_count": 11,
   "metadata": {
    "scrolled": false
   },
   "outputs": [
    {
     "name": "stdout",
     "output_type": "stream",
     "text": [
      "Fitting 3 folds for each of 10 candidates, totalling 30 fits\n"
     ]
    },
    {
     "name": "stderr",
     "output_type": "stream",
     "text": [
      "[Parallel(n_jobs=-1)]: Using backend LokyBackend with 6 concurrent workers.\n",
      "[Parallel(n_jobs=-1)]: Done  30 out of  30 | elapsed: 164.3min finished\n"
     ]
    },
    {
     "name": "stdout",
     "output_type": "stream",
     "text": [
      "Best Hyperparameter 'n_estimators' :  100\n",
      "Accuracy on TF-IDF : 86.23%\n",
      "-------------------------- GridSearchCV --------------------------\n",
      "\n",
      "+------------------------------------------------------------+\n",
      "|                        GridSearchCV                        |\n",
      "+-------------------------------+----------+------+----------+\n",
      "| Hyperparameter (n_estimators) | Scoring  | Mean | Variance |\n",
      "+-------------------------------+----------+------+----------+\n",
      "|              100              | Accuracy | 0.86 |   0.01   |\n",
      "|              200              | Accuracy | 0.86 |   0.01   |\n",
      "|              300              | Accuracy | 0.86 |   0.01   |\n",
      "|              400              | Accuracy | 0.86 |   0.01   |\n",
      "|              500              | Accuracy | 0.86 |   0.01   |\n",
      "|              600              | Accuracy | 0.86 |   0.01   |\n",
      "|              700              | Accuracy | 0.86 |   0.01   |\n",
      "|              800              | Accuracy | 0.86 |   0.01   |\n",
      "|              900              | Accuracy | 0.86 |   0.01   |\n",
      "|              1000             | Accuracy | 0.86 |   0.01   |\n",
      "+-------------------------------+----------+------+----------+\n",
      "\n",
      "+------------------------------------------------------------------------+\n",
      "|            Optimal hyperparameter & Testing accuracy score             |\n",
      "+------------------+---------------------------------------+-------------+\n",
      "| Cross Validation | Optimal Hyperparameter (n_estimators) | Accuracy(%) |\n",
      "+------------------+---------------------------------------+-------------+\n",
      "|   GridSearchCV   |                  100                  |    86.23    |\n",
      "+------------------+---------------------------------------+-------------+\n",
      "\n",
      "+-----------------------------------------------------------------+\n",
      "|           Classification Report with n_estimator = 100          |\n",
      "+----------------------+-----------+--------+----------+----------+\n",
      "| Class Lable/Averages | Precision | Recall | F1-Score | Support  |\n",
      "+----------------------+-----------+--------+----------+----------+\n",
      "|       negative       |    0.97   |  0.21  |   0.35   | 7569.00  |\n",
      "|       positive       |    0.86   |  1.00  |   0.93   | 37431.00 |\n",
      "|      micro avg       |    0.87   |  0.87  |   0.87   | 45000.00 |\n",
      "|      macro avg       |    0.91   |  0.61  |   0.64   | 45000.00 |\n",
      "|     weighted avg     |    0.88   |  0.87  |   0.83   | 45000.00 |\n",
      "+----------------------+-----------+--------+----------+----------+\n"
     ]
    },
    {
     "data": {
      "image/png": "[encoded data removed]",
      "text/plain": [
       "<Figure size 432x288 with 2 Axes>"
      ]
     },
     "metadata": {
      "needs_background": "light"
     },
     "output_type": "display_data"
    },
    {
     "name": "stdout",
     "output_type": "stream",
     "text": [
      "\n",
      "+-------------------------------------------------+\n",
      "|             Confusion Matrix Report             |\n",
      "+----------------------------------------+--------+\n",
      "|                  Term                  | Value  |\n",
      "+----------------------------------------+--------+\n",
      "|           TP (True Positive)           | 37375  |\n",
      "|           TN (True Negative)           |  1614  |\n",
      "|          FP (False Positive)           |  5955  |\n",
      "|          FN (False Negative)           |   56   |\n",
      "| TPR (True Positive Rate)= TP/(TP+FN))  |  1.00  |\n",
      "| TNR (True Negative Rate)= TN/(TN+FP))  |  0.21  |\n",
      "| FPR (False Positive Rate)= FP/(FP+TN)) |  0.79  |\n",
      "| FNR (False Negative Rate)= FN/(TP+FN)) |  0.00  |\n",
      "| ACC (Accuracy)= (TP+TN)/(TP+FP+FN+TN)) | 86.64% |\n",
      "+----------------------------------------+--------+\n",
      "\n",
      "\n",
      "Wall time: 2h 46min 35s\n"
     ]
    }
   ],
   "source": [
    "%%time\n",
    "\n",
    "# Grid search cross Validation on bow\n",
    "gscv = GridSearchCV(randomForestClassifier, \n",
    "                    scoring=\"accuracy\",\n",
    "                    param_grid=parameters,                    \n",
    "                    cv = TimeSeriesSplit(n_splits=3),\n",
    "                    verbose=1, \n",
    "                    n_jobs=-1)\n",
    "# Fit the model\n",
    "gscv.fit(x_train_matrix,Y_TRAIN)\n",
    "\n",
    "print(\"Best Hyperparameter 'n_estimators' : \",gscv.best_params_.get('n_estimators'))\n",
    "print(\"Accuracy on TF-IDF : %.2f%%\"%(gscv.best_score_*100))\n",
    "\n",
    "# Perform performance meausre,plot and draw reports.\n",
    "performance_measure(gscv,x_train_matrix,x_test_matrix)"
   ]
  },
  {
   "cell_type": "markdown",
   "metadata": {},
   "source": [
    "#### (2.3) Average Word2Vec :"
   ]
  },
  {
   "cell_type": "code",
   "execution_count": 12,
   "metadata": {},
   "outputs": [
    {
     "data": {
      "text/plain": [
       "RandomForestClassifier(bootstrap=True, class_weight='balanced_subsample',\n",
       "            criterion='gini', max_depth=None, max_features='auto',\n",
       "            max_leaf_nodes=None, min_impurity_decrease=0.0,\n",
       "            min_impurity_split=None, min_samples_leaf=1,\n",
       "            min_samples_split=2, min_weight_fraction_leaf=0.0,\n",
       "            n_estimators='warn', n_jobs=-1, oob_score=False,\n",
       "            random_state=None, verbose=0, warm_start=False)"
      ]
     },
     "execution_count": 12,
     "metadata": {},
     "output_type": "execute_result"
    }
   ],
   "source": [
    "# Instantiate Random Forest\n",
    "randomForestClassifier = RandomForestClassifier(class_weight=\"balanced_subsample\",n_jobs=-1)\n",
    "randomForestClassifier"
   ]
  },
  {
   "cell_type": "code",
   "execution_count": 13,
   "metadata": {
    "scrolled": true
   },
   "outputs": [
    {
     "name": "stdout",
     "output_type": "stream",
     "text": [
      "Shape of training data :  (105000,)\n",
      "Shape of testing data :  (45000,)\n",
      "Number of sentences present in training data :  105000\n",
      "Number of sentences present in testing data :  45000\n",
      "Length of vocabulary :  16602\n"
     ]
    },
    {
     "name": "stderr",
     "output_type": "stream",
     "text": [
      "Average Word2Vec - Train data: 100%|██████████████████████████████████| 105000/105000 [01:36<00:00, 1085.41 sentence/s]\n",
      "Average Word2Vec - Test data: 100%|█████████████████████████████████████| 45000/45000 [00:43<00:00, 1034.98 sentence/s]\n"
     ]
    },
    {
     "name": "stdout",
     "output_type": "stream",
     "text": [
      "\n",
      "Shape of training vectorizer :  (105000, 50)\n",
      "Shape of testing vectorizer :  (45000, 50)\n",
      "Wall time: 2min 26s\n"
     ]
    }
   ],
   "source": [
    "%%time\n",
    "\n",
    "# Create our own Word2Vec model from training data.\n",
    "        \n",
    "# Make list of list from training data\n",
    "list_of_sentences_in_train=[]\n",
    "for sentence in X_TRAIN:\n",
    "    list_of_sentences_in_train.append(sentence.split())\n",
    "            \n",
    "# Make list of list from testing data - this will be useful when vectorizing testing data.\n",
    "list_of_sentences_in_test=[]\n",
    "for sentence in X_TEST:\n",
    "    list_of_sentences_in_test.append(sentence.split())\n",
    "            \n",
    "print(\"Shape of training data : \",X_TRAIN.shape)\n",
    "print(\"Shape of testing data : \",X_TEST.shape)\n",
    "print(\"Number of sentences present in training data : \",len(list_of_sentences_in_train))\n",
    "print(\"Number of sentences present in testing data : \",len(list_of_sentences_in_test))\n",
    "        \n",
    "# Generate model\n",
    "w2v_model = Word2Vec(list_of_sentences_in_train,min_count=3,size=50, workers=6)\n",
    "        \n",
    "# List of word in vocabulary \n",
    "w2v_words = list(w2v_model.wv.vocab)\n",
    "print(\"Length of vocabulary : \",len(w2v_words))\n",
    "\n",
    "# Prepare train vectorizer using trained word2vec model\n",
    "train_list = []\n",
    "for sentence in tqdm(list_of_sentences_in_train,unit=\" sentence\",desc='Average Word2Vec - Train data'):\n",
    "    word_2_vec = np.zeros(50)\n",
    "    cnt_words = 0\n",
    "    for word in sentence:\n",
    "        if word in w2v_words:\n",
    "            vec = w2v_model.wv[word]\n",
    "            word_2_vec += vec\n",
    "            cnt_words += 1\n",
    "    if cnt_words != 0 :\n",
    "        word_2_vec /= cnt_words\n",
    "    train_list.append(word_2_vec)\n",
    "        \n",
    "# Prepare test vectorizer using trained word2vec model\n",
    "test_list = []\n",
    "for sentence in tqdm(list_of_sentences_in_test,unit=\" sentence\",desc='Average Word2Vec - Test data'):\n",
    "    word_2_vec = np.zeros(50)\n",
    "    cnt_words = 0\n",
    "    for word in sentence:\n",
    "        if word in w2v_words:\n",
    "            vec = w2v_model.wv[word]\n",
    "            word_2_vec += vec\n",
    "            cnt_words += 1\n",
    "    if cnt_words != 0 :\n",
    "        word_2_vec /= cnt_words\n",
    "    test_list.append(word_2_vec)\n",
    "            \n",
    "avg_w2v_train = np.array(train_list)\n",
    "avg_w2v_test = np.array(test_list)\n",
    "           \n",
    "\n",
    "print(\"\\nShape of training vectorizer : \",avg_w2v_train.shape)\n",
    "print(\"Shape of testing vectorizer : \",avg_w2v_test.shape)"
   ]
  },
  {
   "cell_type": "code",
   "execution_count": 14,
   "metadata": {
    "scrolled": false
   },
   "outputs": [
    {
     "name": "stdout",
     "output_type": "stream",
     "text": [
      "Fitting 3 folds for each of 10 candidates, totalling 30 fits\n"
     ]
    },
    {
     "name": "stderr",
     "output_type": "stream",
     "text": [
      "[Parallel(n_jobs=-1)]: Using backend LokyBackend with 6 concurrent workers.\n",
      "[Parallel(n_jobs=-1)]: Done  30 out of  30 | elapsed: 14.4min finished\n"
     ]
    },
    {
     "name": "stdout",
     "output_type": "stream",
     "text": [
      "Best Hyperparameter 'n_estimators' :  100\n",
      "Accuracy on TF-IDF : 87.24%\n",
      "-------------------------- GridSearchCV --------------------------\n",
      "\n",
      "+------------------------------------------------------------+\n",
      "|                        GridSearchCV                        |\n",
      "+-------------------------------+----------+------+----------+\n",
      "| Hyperparameter (n_estimators) | Scoring  | Mean | Variance |\n",
      "+-------------------------------+----------+------+----------+\n",
      "|              100              | Accuracy | 0.87 |   0.01   |\n",
      "|              200              | Accuracy | 0.87 |   0.01   |\n",
      "|              300              | Accuracy | 0.87 |   0.01   |\n",
      "|              400              | Accuracy | 0.87 |   0.01   |\n",
      "|              500              | Accuracy | 0.87 |   0.01   |\n",
      "|              600              | Accuracy | 0.87 |   0.01   |\n",
      "|              700              | Accuracy | 0.87 |   0.01   |\n",
      "|              800              | Accuracy | 0.87 |   0.01   |\n",
      "|              900              | Accuracy | 0.87 |   0.01   |\n",
      "|              1000             | Accuracy | 0.87 |   0.01   |\n",
      "+-------------------------------+----------+------+----------+\n",
      "\n",
      "+------------------------------------------------------------------------+\n",
      "|            Optimal hyperparameter & Testing accuracy score             |\n",
      "+------------------+---------------------------------------+-------------+\n",
      "| Cross Validation | Optimal Hyperparameter (n_estimators) | Accuracy(%) |\n",
      "+------------------+---------------------------------------+-------------+\n",
      "|   GridSearchCV   |                  100                  |    87.24    |\n",
      "+------------------+---------------------------------------+-------------+\n",
      "\n",
      "+-----------------------------------------------------------------+\n",
      "|           Classification Report with n_estimator = 100          |\n",
      "+----------------------+-----------+--------+----------+----------+\n",
      "| Class Lable/Averages | Precision | Recall | F1-Score | Support  |\n",
      "+----------------------+-----------+--------+----------+----------+\n",
      "|       negative       |    0.78   |  0.29  |   0.42   | 7569.00  |\n",
      "|       positive       |    0.87   |  0.98  |   0.92   | 37431.00 |\n",
      "|      micro avg       |    0.87   |  0.87  |   0.87   | 45000.00 |\n",
      "|      macro avg       |    0.83   |  0.64  |   0.67   | 45000.00 |\n",
      "|     weighted avg     |    0.86   |  0.87  |   0.84   | 45000.00 |\n",
      "+----------------------+-----------+--------+----------+----------+\n"
     ]
    },
    {
     "data": {
      "image/png": "[encoded data removed]",
      "text/plain": [
       "<Figure size 432x288 with 2 Axes>"
      ]
     },
     "metadata": {
      "needs_background": "light"
     },
     "output_type": "display_data"
    },
    {
     "name": "stdout",
     "output_type": "stream",
     "text": [
      "\n",
      "+-------------------------------------------------+\n",
      "|             Confusion Matrix Report             |\n",
      "+----------------------------------------+--------+\n",
      "|                  Term                  | Value  |\n",
      "+----------------------------------------+--------+\n",
      "|           TP (True Positive)           | 36811  |\n",
      "|           TN (True Negative)           |  2177  |\n",
      "|          FP (False Positive)           |  5392  |\n",
      "|          FN (False Negative)           |  620   |\n",
      "| TPR (True Positive Rate)= TP/(TP+FN))  |  0.98  |\n",
      "| TNR (True Negative Rate)= TN/(TN+FP))  |  0.29  |\n",
      "| FPR (False Positive Rate)= FP/(FP+TN)) |  0.71  |\n",
      "| FNR (False Negative Rate)= FN/(TP+FN)) |  0.02  |\n",
      "| ACC (Accuracy)= (TP+TN)/(TP+FP+FN+TN)) | 86.64% |\n",
      "+----------------------------------------+--------+\n",
      "\n",
      "\n",
      "Wall time: 14min 40s\n"
     ]
    }
   ],
   "source": [
    "%%time\n",
    "\n",
    "# Grid search cross Validation on bow\n",
    "gscv = GridSearchCV(randomForestClassifier, \n",
    "                    scoring=\"accuracy\",\n",
    "                    param_grid=parameters,                    \n",
    "                    cv = TimeSeriesSplit(n_splits=3),\n",
    "                    verbose=1, \n",
    "                    n_jobs=-1)\n",
    "# Fit the model\n",
    "gscv.fit(avg_w2v_train,Y_TRAIN)\n",
    "\n",
    "print(\"Best Hyperparameter 'n_estimators' : \",gscv.best_params_.get('n_estimators'))\n",
    "print(\"Accuracy on TF-IDF : %.2f%%\"%(gscv.best_score_*100))\n",
    "\n",
    "# Perform performance meausre,plot and draw reports.\n",
    "performance_measure(gscv,avg_w2v_train,avg_w2v_test)"
   ]
  },
  {
   "cell_type": "markdown",
   "metadata": {},
   "source": [
    "#### (2.4) Term Frequency - Inverse Document Frequency Weighted Word2Vec(TF-IDF Word2Vec) :"
   ]
  },
  {
   "cell_type": "code",
   "execution_count": 15,
   "metadata": {},
   "outputs": [
    {
     "data": {
      "text/plain": [
       "RandomForestClassifier(bootstrap=True, class_weight='balanced_subsample',\n",
       "            criterion='gini', max_depth=None, max_features='auto',\n",
       "            max_leaf_nodes=None, min_impurity_decrease=0.0,\n",
       "            min_impurity_split=None, min_samples_leaf=1,\n",
       "            min_samples_split=2, min_weight_fraction_leaf=0.0,\n",
       "            n_estimators='warn', n_jobs=-1, oob_score=False,\n",
       "            random_state=None, verbose=0, warm_start=False)"
      ]
     },
     "execution_count": 15,
     "metadata": {},
     "output_type": "execute_result"
    }
   ],
   "source": [
    "# Instantiate Random Forest\n",
    "randomForestClassifier = RandomForestClassifier(class_weight=\"balanced_subsample\",n_jobs=-1)\n",
    "randomForestClassifier"
   ]
  },
  {
   "cell_type": "code",
   "execution_count": 16,
   "metadata": {
    "scrolled": true
   },
   "outputs": [
    {
     "name": "stderr",
     "output_type": "stream",
     "text": [
      "TF-IDF Weighted Word2Vec - Train data: 100%|██████████████████████████| 105000/105000 [00:30<00:00, 3496.62 sentence/s]\n",
      "TF-IDF Weighted Word2Vec - Test data: 100%|█████████████████████████████| 45000/45000 [00:12<00:00, 3512.46 sentence/s]\n"
     ]
    },
    {
     "name": "stdout",
     "output_type": "stream",
     "text": [
      "\n",
      "Shape of training vectorizer :  (105000, 50)\n",
      "Shape of testing vectorizer :  (45000, 50)\n",
      "Wall time: 1min 6s\n"
     ]
    }
   ],
   "source": [
    "%%time\n",
    "\n",
    "# Make list of list from training data.      \n",
    "sentences_in_train=[]\n",
    "for sentence in X_TRAIN:\n",
    "    sentences_in_train.append(sentence.split())\n",
    "\n",
    "# Make list of list from testing data - this will be useful when vectorizing testing data.\n",
    "sentences_in_test=[]\n",
    "for sentence in X_TEST:\n",
    "    sentences_in_test.append(sentence.split())\n",
    "            \n",
    "# Generate model\n",
    "w2v_model = Word2Vec(sentences_in_train,min_count=3,size=50, workers=6)\n",
    "\n",
    "# Instantiate TfidfVectorizer\n",
    "tfidf_vectorizer = TfidfVectorizer(min_df = 3,ngram_range=(1,2))\n",
    "\n",
    "# Tokenize and build vocab\n",
    "tfidf_vectorizer.fit(X_TRAIN)\n",
    "\n",
    "# Encode document\n",
    "x_train_matrix = tfidf_vectorizer.transform(X_TRAIN)\n",
    "\n",
    "# Get feature names\n",
    "feature_names = tfidf_vectorizer.get_feature_names()\n",
    "\n",
    "# Dictionary with word as a key, and the idf as a value\n",
    "dict_word_idf = dict(zip(feature_names, list(tfidf_vectorizer.idf_)))\n",
    "\n",
    "# Prepare train vectorizer using trained word2vec model        \n",
    "train_list = []\n",
    "row = 0\n",
    "for sentence in tqdm(sentences_in_train,unit=\" sentence\",desc='TF-IDF Weighted Word2Vec - Train data'):\n",
    "    word_2_vec = np.zeros(50)\n",
    "    weight_tfidf_sum = 0\n",
    "    for word in sentence:\n",
    "        try:\n",
    "            vec = w2v_model.wv[word]\n",
    "            # dict_word_idf[word] = idf value of word in whole courpus\n",
    "            # sentence.count(word) = tf valeus of word in this review\n",
    "            tfidf_value =  dict_word_idf[word]*sentence.count(word)\n",
    "            word_2_vec += (vec * tfidf_value)\n",
    "            weight_tfidf_sum += tfidf_value\n",
    "        except:\n",
    "            pass\n",
    "    if weight_tfidf_sum != 0:\n",
    "        word_2_vec /= weight_tfidf_sum\n",
    "    train_list.append(word_2_vec)\n",
    "    row += 1\n",
    "        \n",
    "# Prepare test vectorizer using trained word2vec model\n",
    "test_list = []\n",
    "row = 0\n",
    "for sentence in tqdm(sentences_in_test, unit=\" sentence\",desc='TF-IDF Weighted Word2Vec - Test data'):\n",
    "    word_2_vec = np.zeros(50)\n",
    "    weight_tfidf_sum = 0\n",
    "    for word in sentence:\n",
    "        try:\n",
    "            vec = w2v_model.wv[word]\n",
    "            # dict_word_idf[word] = idf value of word in whole courpus\n",
    "            # sentence.count(word) = tf valeus of word in this review\n",
    "            tfidf_value =  dict_word_idf[word]*sentence.count(word)\n",
    "            word_2_vec += (vec * tfidf_value)\n",
    "            weight_tfidf_sum += tfidf_value\n",
    "        except:\n",
    "            pass\n",
    "    if weight_tfidf_sum != 0:\n",
    "        word_2_vec /= weight_tfidf_sum\n",
    "    test_list.append(word_2_vec)\n",
    "    row += 1\n",
    "        \n",
    "tfidf_w2v_train = np.array(train_list)\n",
    "tfidf_w2v_test = np.array(test_list)\n",
    "\n",
    "\n",
    "print(\"\\nShape of training vectorizer : \",tfidf_w2v_train.shape)\n",
    "print(\"Shape of testing vectorizer : \",tfidf_w2v_test.shape)"
   ]
  },
  {
   "cell_type": "code",
   "execution_count": 17,
   "metadata": {
    "scrolled": false
   },
   "outputs": [
    {
     "name": "stdout",
     "output_type": "stream",
     "text": [
      "Fitting 3 folds for each of 10 candidates, totalling 30 fits\n"
     ]
    },
    {
     "name": "stderr",
     "output_type": "stream",
     "text": [
      "[Parallel(n_jobs=-1)]: Using backend LokyBackend with 6 concurrent workers.\n",
      "[Parallel(n_jobs=-1)]: Done  30 out of  30 | elapsed: 14.6min finished\n"
     ]
    },
    {
     "name": "stdout",
     "output_type": "stream",
     "text": [
      "Best Hyperparameter 'n_estimators' :  100\n",
      "Accuracy on TF-IDF Weighted Word2Vec : 86.63%\n",
      "-------------------------- GridSearchCV --------------------------\n",
      "\n",
      "+------------------------------------------------------------+\n",
      "|                        GridSearchCV                        |\n",
      "+-------------------------------+----------+------+----------+\n",
      "| Hyperparameter (n_estimators) | Scoring  | Mean | Variance |\n",
      "+-------------------------------+----------+------+----------+\n",
      "|              100              | Accuracy | 0.87 |   0.01   |\n",
      "|              200              | Accuracy | 0.87 |   0.02   |\n",
      "|              300              | Accuracy | 0.87 |   0.01   |\n",
      "|              400              | Accuracy | 0.87 |   0.01   |\n",
      "|              500              | Accuracy | 0.87 |   0.02   |\n",
      "|              600              | Accuracy | 0.87 |   0.02   |\n",
      "|              700              | Accuracy | 0.87 |   0.02   |\n",
      "|              800              | Accuracy | 0.87 |   0.02   |\n",
      "|              900              | Accuracy | 0.87 |   0.02   |\n",
      "|              1000             | Accuracy | 0.87 |   0.02   |\n",
      "+-------------------------------+----------+------+----------+\n",
      "\n",
      "+------------------------------------------------------------------------+\n",
      "|            Optimal hyperparameter & Testing accuracy score             |\n",
      "+------------------+---------------------------------------+-------------+\n",
      "| Cross Validation | Optimal Hyperparameter (n_estimators) | Accuracy(%) |\n",
      "+------------------+---------------------------------------+-------------+\n",
      "|   GridSearchCV   |                  100                  |    86.63    |\n",
      "+------------------+---------------------------------------+-------------+\n",
      "\n",
      "+-----------------------------------------------------------------+\n",
      "|           Classification Report with n_estimator = 100          |\n",
      "+----------------------+-----------+--------+----------+----------+\n",
      "| Class Lable/Averages | Precision | Recall | F1-Score | Support  |\n",
      "+----------------------+-----------+--------+----------+----------+\n",
      "|       negative       |    0.78   |  0.23  |   0.36   | 7569.00  |\n",
      "|       positive       |    0.86   |  0.99  |   0.92   | 37431.00 |\n",
      "|      micro avg       |    0.86   |  0.86  |   0.86   | 45000.00 |\n",
      "|      macro avg       |    0.82   |  0.61  |   0.64   | 45000.00 |\n",
      "|     weighted avg     |    0.85   |  0.86  |   0.83   | 45000.00 |\n",
      "+----------------------+-----------+--------+----------+----------+\n"
     ]
    },
    {
     "data": {
      "image/png": "[encoded data removed]",
      "text/plain": [
       "<Figure size 432x288 with 2 Axes>"
      ]
     },
     "metadata": {
      "needs_background": "light"
     },
     "output_type": "display_data"
    },
    {
     "name": "stdout",
     "output_type": "stream",
     "text": [
      "\n",
      "+-------------------------------------------------+\n",
      "|             Confusion Matrix Report             |\n",
      "+----------------------------------------+--------+\n",
      "|                  Term                  | Value  |\n",
      "+----------------------------------------+--------+\n",
      "|           TP (True Positive)           | 36941  |\n",
      "|           TN (True Negative)           |  1767  |\n",
      "|          FP (False Positive)           |  5802  |\n",
      "|          FN (False Negative)           |  490   |\n",
      "| TPR (True Positive Rate)= TP/(TP+FN))  |  0.99  |\n",
      "| TNR (True Negative Rate)= TN/(TN+FP))  |  0.23  |\n",
      "| FPR (False Positive Rate)= FP/(FP+TN)) |  0.77  |\n",
      "| FNR (False Negative Rate)= FN/(TP+FN)) |  0.01  |\n",
      "| ACC (Accuracy)= (TP+TN)/(TP+FP+FN+TN)) | 86.02% |\n",
      "+----------------------------------------+--------+\n",
      "\n",
      "\n",
      "Wall time: 14min 53s\n"
     ]
    }
   ],
   "source": [
    "%%time\n",
    "\n",
    "# Grid search cross Validation on bow\n",
    "gscv = GridSearchCV(randomForestClassifier, \n",
    "                    scoring=\"accuracy\",\n",
    "                    param_grid=parameters,                    \n",
    "                    cv = TimeSeriesSplit(n_splits=3),\n",
    "                    verbose=1, \n",
    "                    n_jobs=-1)\n",
    "# Fit the model\n",
    "gscv.fit(tfidf_w2v_train,Y_TRAIN)\n",
    "\n",
    "print(\"Best Hyperparameter 'n_estimators' : \",gscv.best_params_.get('n_estimators'))\n",
    "print(\"Accuracy on TF-IDF Weighted Word2Vec : %.2f%%\"%(gscv.best_score_*100))\n",
    "\n",
    "# Perform performance meausre,plot and draw reports.\n",
    "performance_measure(gscv,tfidf_w2v_train,tfidf_w2v_test)"
   ]
  },
  {
   "cell_type": "markdown",
   "metadata": {},
   "source": [
    "---\n",
    "### Conclusion :\n",
    "---"
   ]
  },
  {
   "cell_type": "code",
   "execution_count": 18,
   "metadata": {
    "scrolled": true
   },
   "outputs": [
    {
     "name": "stdout",
     "output_type": "stream",
     "text": [
      "+------------------------------------------------------------------------------------------------------+\n",
      "|                                  *** Conclusion - Random Forest ***                                  |\n",
      "+--------------+-------------------+-------------------------------+-------------+---------------------+\n",
      "|      CV      |       Model       | Hyperparameter 'n_estimators' | Train Error |      Test Error     |\n",
      "+--------------+-------------------+-------------------------------+-------------+---------------------+\n",
      "| GridSearchCV |       BOW:RF      |              100              |     0.0%    | 14.000000000000002% |\n",
      "| GridSearchCV |      TFIDF:RF     |              100              |     0.0%    |        13.0%        |\n",
      "| GridSearchCV |  AVG-WORD2VEC:RF  |              100              |     0.0%    |        13.0%        |\n",
      "| GridSearchCV | TFIDF-WORD2VEC:RF |              100              |     0.0%    | 14.000000000000002% |\n",
      "+--------------+-------------------+-------------------------------+-------------+---------------------+\n"
     ]
    }
   ],
   "source": [
    "conclude_RF()"
   ]
  },
  {
   "cell_type": "markdown",
   "metadata": {},
   "source": [
    "<br/>\n",
    "<br/>\n",
    "\n",
    "###  ------------------- Ensemble Model : Boosting ( Gradient Boosting Decision Tree )  -------------------"
   ]
  },
  {
   "cell_type": "code",
   "execution_count": 19,
   "metadata": {},
   "outputs": [],
   "source": [
    "# Ideal values of n_estimators-More information http://scikit-learn.org/stable/modules/ensemble.html#parameters\n",
    "parameters = {'max_depth':[1,2,3],\n",
    "              'learning_rate':[0.0001,0.001,0.01,0.1],\n",
    "              'n_estimators':[100,300,500,700,900,1100,1300]}\n",
    "\n",
    "# List of hyperparameters \n",
    "list_max_depth = []\n",
    "list_learning_rate = []\n",
    "list_n_estimators = []\n",
    "\n",
    "\n",
    "# Training roc_auc_ score\n",
    "train_roc_auc_score = []\n",
    "\n",
    "# Test roc_auc_ score\n",
    "test_roc_auc_score = []"
   ]
  },
  {
   "cell_type": "markdown",
   "metadata": {},
   "source": [
    "### (3) Implementation of GBDT :  XGBOOST \n"
   ]
  },
  {
   "cell_type": "code",
   "execution_count": 20,
   "metadata": {},
   "outputs": [],
   "source": [
    "# GridSearchCV with XGBOOST estimator\n",
    "def perform_gridsearch_cv(estimator,parameters,x_tr,y_tr):\n",
    "    # Perform cross validation \n",
    "    gscv = GridSearchCV(estimator,\n",
    "                        param_grid = parameters,\n",
    "                        scoring=\"roc_auc\",\n",
    "                        cv = TimeSeriesSplit(n_splits=3),\n",
    "                        n_jobs = -1,\n",
    "                        verbose = 1)\n",
    "\n",
    "    # Fit the model\n",
    "    gscv.fit(x_tr,y_tr)\n",
    "\n",
    "    optimal_max_depth = gscv.best_params_.get('max_depth')\n",
    "    list_max_depth.append(optimal_max_depth)\n",
    "\n",
    "    optimal_learning_rate = gscv.best_params_.get('learning_rate')\n",
    "    list_learning_rate.append(optimal_learning_rate)\n",
    "\n",
    "    optimal_n_estimators = gscv.best_params_.get('n_estimators')\n",
    "    list_n_estimators.append(optimal_n_estimators)\n",
    "\n",
    "    print() \n",
    "    print(\"Best HyperParameter 'max_depth': \",optimal_max_depth)\n",
    "    print(\"Best HyperParameter 'learning_rate': \",optimal_learning_rate)\n",
    "    print(\"Best HyperParameter 'n_estimators': \",optimal_n_estimators)\n",
    "    print(\"Best ROC_AUC Score on Train Data: \",gscv.best_score_)\n",
    "    \n",
    "    return gscv\n",
    "\n",
    "# Predict values and generate reports\n",
    "def predict_generate_reports(classifier,gscv,x_tr,x_te,y_tr,y_te):\n",
    "    predicted_y_train = classifier.predict(x_tr)\n",
    "    predicted_y_test = classifier.predict(x_te)\n",
    "\n",
    "    print()          \n",
    "    ptable = PrettyTable()\n",
    "    ptable.title = \"Classification Report with n_estimators = {0}, max_depth = {1}, learning_rate = {2}\".format(gscv.best_params_.get('n_estimators'),\n",
    "                                                                                                                gscv.best_params_.get('max_depth'),\n",
    "                                                                                                                gscv.best_params_.get('learning_rate'))\n",
    "    ptable.field_names = [\"Class Lable/Averages\",\"Precision\", \"Recall\",\"F1-Score\",\"Support\"]\n",
    "    report_dict = classification_report(y_te, predicted_y_test,output_dict = True)\n",
    "    for key , value in report_dict.items():        \n",
    "        inner_dict = value        \n",
    "        ptable.add_row([key,\n",
    "                        \"{0:.2f}\".format(inner_dict['precision']),\n",
    "                        \"{0:.2f}\".format(inner_dict['recall']),\n",
    "                        \"{0:.2f}\".format(inner_dict['f1-score']),\n",
    "                        \"{0:.2f}\".format(inner_dict['support'])])\n",
    "\n",
    "    print(ptable)   \n",
    "\n",
    "    train_roc_auc_score.append(roc_auc_score(y_tr,classifier.predict_proba(x_tr)[:,1]))\n",
    "    \n",
    "    test_roc_auc_score.append(roc_auc_score(y_te,classifier.predict_proba(x_te)[:,1]))\n",
    "    \n",
    "    print()\n",
    "    print()\n",
    "    print(\"--------------- Confusion Matrix of Test Data ---------------\")\n",
    "    sns.set(font_scale=1.4)\n",
    "    sns.heatmap(pd.DataFrame(confusion_matrix(y_te, predicted_y_test), range(2),range(2)), \n",
    "                annot=True,\n",
    "                annot_kws={\"size\": 14}, \n",
    "                fmt='g') \n",
    "    \n"
   ]
  },
  {
   "cell_type": "markdown",
   "metadata": {},
   "source": [
    "#### (3.1) Bag of Words (BoW) :"
   ]
  },
  {
   "cell_type": "code",
   "execution_count": 21,
   "metadata": {},
   "outputs": [
    {
     "data": {
      "text/plain": [
       "XGBClassifier(base_score=0.5, booster='gbtree', colsample_bylevel=1,\n",
       "       colsample_bytree=1, gamma=0, learning_rate=0.1, max_delta_step=0,\n",
       "       max_depth=3, min_child_weight=1, missing=None, n_estimators=100,\n",
       "       n_jobs=6, nthread=None, objective='binary:logistic', random_state=0,\n",
       "       reg_alpha=0, reg_lambda=1, scale_pos_weight=1, seed=None,\n",
       "       silent=True, subsample=1)"
      ]
     },
     "execution_count": 21,
     "metadata": {},
     "output_type": "execute_result"
    }
   ],
   "source": [
    "# Instantiate XGBoost\n",
    "xgbClassifier = XGBClassifier(n_jobs= 6)\n",
    "xgbClassifier"
   ]
  },
  {
   "cell_type": "code",
   "execution_count": 22,
   "metadata": {
    "scrolled": true
   },
   "outputs": [
    {
     "name": "stdout",
     "output_type": "stream",
     "text": [
      "\n",
      "The type of count vectorizer  <class 'scipy.sparse.csr.csr_matrix'>\n",
      "The shape of train matrix  (105000, 46035)\n",
      "The number of unique words in train matrix  46035\n",
      "Wall time: 6.5 s\n"
     ]
    }
   ],
   "source": [
    "%%time\n",
    "\n",
    "# Instantiate CountVectorizer\n",
    "bow_count_vectorizer = CountVectorizer()\n",
    "\n",
    "# Tokenize and build vocab\n",
    "bow_count_vectorizer.fit(X_TRAIN)\n",
    "\n",
    "# Encode document\n",
    "x_train_matrix = bow_count_vectorizer.transform(X_TRAIN)\n",
    "x_test_matrix = bow_count_vectorizer.transform(X_TEST)\n",
    "\n",
    "print(\"\\nThe type of count vectorizer \",type(x_train_matrix))\n",
    "print(\"The shape of train matrix \",x_train_matrix.get_shape())\n",
    "print(\"The number of unique words in train matrix \", x_train_matrix.get_shape()[1])"
   ]
  },
  {
   "cell_type": "code",
   "execution_count": 23,
   "metadata": {
    "scrolled": false
   },
   "outputs": [
    {
     "name": "stdout",
     "output_type": "stream",
     "text": [
      "Fitting 3 folds for each of 84 candidates, totalling 252 fits\n"
     ]
    },
    {
     "name": "stderr",
     "output_type": "stream",
     "text": [
      "[Parallel(n_jobs=-1)]: Using backend LokyBackend with 6 concurrent workers.\n",
      "[Parallel(n_jobs=-1)]: Done  38 tasks      | elapsed:  3.4min\n",
      "[Parallel(n_jobs=-1)]: Done 188 tasks      | elapsed: 22.3min\n",
      "[Parallel(n_jobs=-1)]: Done 252 out of 252 | elapsed: 30.5min finished\n"
     ]
    },
    {
     "name": "stdout",
     "output_type": "stream",
     "text": [
      "\n",
      "Best HyperParameter 'max_depth':  3\n",
      "Best HyperParameter 'learning_rate':  0.1\n",
      "Best HyperParameter 'n_estimators':  1300\n",
      "Best ROC_AUC Score on Train Data:  0.9328530517869714\n",
      "Wall time: 31min 10s\n"
     ]
    }
   ],
   "source": [
    "%%time\n",
    "# Perform GridSearchCV\n",
    "gscv = perform_gridsearch_cv(xgbClassifier,parameters,x_train_matrix,Y_TRAIN)"
   ]
  },
  {
   "cell_type": "code",
   "execution_count": 24,
   "metadata": {
    "scrolled": true
   },
   "outputs": [
    {
     "data": {
      "text/plain": [
       "XGBClassifier(base_score=0.5, booster='gbtree', colsample_bylevel=1,\n",
       "       colsample_bytree=1, gamma=0, learning_rate=0.1, max_delta_step=0,\n",
       "       max_depth=3, min_child_weight=1, missing=None, n_estimators=1300,\n",
       "       n_jobs=6, nthread=None, objective='binary:logistic', random_state=0,\n",
       "       reg_alpha=0, reg_lambda=1, scale_pos_weight=1, seed=None,\n",
       "       silent=True, subsample=1)"
      ]
     },
     "execution_count": 24,
     "metadata": {},
     "output_type": "execute_result"
    }
   ],
   "source": [
    "# Get estimator back with best parameters\n",
    "classifier = gscv.best_estimator_\n",
    "classifier"
   ]
  },
  {
   "cell_type": "code",
   "execution_count": 25,
   "metadata": {
    "scrolled": false
   },
   "outputs": [
    {
     "name": "stdout",
     "output_type": "stream",
     "text": [
      "\n",
      "+--------------------------------------------------------------------------------------+\n",
      "|  Classification Report with n_estimators = 1300, max_depth = 3, learning_rate = 0.1  |\n",
      "+------------------------------+---------------+-----------+-------------+-------------+\n",
      "|     Class Lable/Averages     |   Precision   |   Recall  |   F1-Score  |   Support   |\n",
      "+------------------------------+---------------+-----------+-------------+-------------+\n",
      "|           negative           |      0.85     |    0.55   |     0.67    |   7569.00   |\n",
      "|           positive           |      0.92     |    0.98   |     0.95    |   37431.00  |\n",
      "|          micro avg           |      0.91     |    0.91   |     0.91    |   45000.00  |\n",
      "|          macro avg           |      0.88     |    0.77   |     0.81    |   45000.00  |\n",
      "|         weighted avg         |      0.91     |    0.91   |     0.90    |   45000.00  |\n",
      "+------------------------------+---------------+-----------+-------------+-------------+\n",
      "\n",
      "\n",
      "--------------- Confusion Matrix of Test Data ---------------\n"
     ]
    },
    {
     "data": {
      "image/png": "[encoded data removed]",
      "text/plain": [
       "<Figure size 432x288 with 2 Axes>"
      ]
     },
     "metadata": {},
     "output_type": "display_data"
    },
    {
     "name": "stdout",
     "output_type": "stream",
     "text": [
      "\n",
      "\n",
      "ROC-AUC Score on Test Data:  0.9411684840574354\n"
     ]
    },
    {
     "data": {
      "image/png": "[encoded data removed]",
      "text/plain": [
       "<Figure size 432x288 with 1 Axes>"
      ]
     },
     "metadata": {},
     "output_type": "display_data"
    },
    {
     "name": "stdout",
     "output_type": "stream",
     "text": [
      "\n",
      "\n"
     ]
    }
   ],
   "source": [
    "# Predict and generate reports\n",
    "predict_generate_reports(classifier,gscv,x_train_matrix,x_test_matrix,Y_TRAIN,Y_TEST)\n",
    "plt.show()\n",
    "\n",
    "print()\n",
    "print()\n",
    "print(\"ROC-AUC Score on Test Data: \",test_roc_auc_score[-1])\n",
    "plt.figure()\n",
    "fpr, tpr, threshold = roc_curve(Y_TEST,classifier.predict_proba(x_test_matrix)[:,1],pos_label=\"positive\")\n",
    "plt.title('Receiver operating characteristic example')\n",
    "plt.plot([0,1],[0,1],linestyle=\"--\")\n",
    "plt.plot(fpr,tpr,marker=\".\")\n",
    "plt.xlabel('False Positive Rate')\n",
    "plt.ylabel('True Positive Rate')\n",
    "plt.show()\n",
    "print()\n",
    "print()"
   ]
  },
  {
   "cell_type": "markdown",
   "metadata": {},
   "source": [
    "#### (3.2) Term Frequency - Inverse Document Frequency (TF-IDF) :"
   ]
  },
  {
   "cell_type": "code",
   "execution_count": 26,
   "metadata": {
    "scrolled": true
   },
   "outputs": [
    {
     "name": "stdout",
     "output_type": "stream",
     "text": [
      "\n",
      "The type of count vectorizer  <class 'scipy.sparse.csr.csr_matrix'>\n",
      "The shape of train matrix  (105000, 239302)\n",
      "The number of unique words in train matrix  239302\n",
      "Wall time: 19 s\n"
     ]
    }
   ],
   "source": [
    "%%time\n",
    "\n",
    "# Instantiate TfidfVectorizer\n",
    "tfidf_vectorizer = TfidfVectorizer(min_df = 3,ngram_range=(1,2))\n",
    "\n",
    "# Tokenize and build vocab\n",
    "tfidf_vectorizer.fit(X_TRAIN)\n",
    "\n",
    "# Encode document\n",
    "x_train_matrix = tfidf_vectorizer.transform(X_TRAIN)\n",
    "x_test_matrix = tfidf_vectorizer.transform(X_TEST)\n",
    "\n",
    "print(\"\\nThe type of count vectorizer \",type(x_train_matrix))\n",
    "print(\"The shape of train matrix \",x_train_matrix.get_shape())\n",
    "print(\"The number of unique words in train matrix \", x_train_matrix.get_shape()[1])"
   ]
  },
  {
   "cell_type": "code",
   "execution_count": 30,
   "metadata": {
    "scrolled": false
   },
   "outputs": [
    {
     "name": "stdout",
     "output_type": "stream",
     "text": [
      "Fitting 3 folds for each of 84 candidates, totalling 252 fits\n"
     ]
    },
    {
     "name": "stderr",
     "output_type": "stream",
     "text": [
      "[Parallel(n_jobs=-1)]: Using backend LokyBackend with 6 concurrent workers.\n",
      "[Parallel(n_jobs=-1)]: Done  38 tasks      | elapsed: 13.8min\n",
      "[Parallel(n_jobs=-1)]: Done 188 tasks      | elapsed: 92.0min\n",
      "[Parallel(n_jobs=-1)]: Done 252 out of 252 | elapsed: 124.9min finished\n"
     ]
    },
    {
     "name": "stdout",
     "output_type": "stream",
     "text": [
      "\n",
      "Best HyperParameter 'max_depth':  3\n",
      "Best HyperParameter 'learning_rate':  0.1\n",
      "Best HyperParameter 'n_estimators':  1300\n",
      "Best ROC_AUC Score on Train Data:  0.9390933137456682\n",
      "Wall time: 2h 7min 20s\n"
     ]
    }
   ],
   "source": [
    "%%time\n",
    "\n",
    "# Perform GridSearchCV\n",
    "gscv = perform_gridsearch_cv(xgbClassifier,parameters,x_train_matrix,Y_TRAIN)"
   ]
  },
  {
   "cell_type": "code",
   "execution_count": 31,
   "metadata": {
    "scrolled": true
   },
   "outputs": [
    {
     "data": {
      "text/plain": [
       "XGBClassifier(base_score=0.5, booster='gbtree', colsample_bylevel=1,\n",
       "       colsample_bytree=1, gamma=0, learning_rate=0.1, max_delta_step=0,\n",
       "       max_depth=3, min_child_weight=1, missing=None, n_estimators=1300,\n",
       "       n_jobs=6, nthread=None, objective='binary:logistic', random_state=0,\n",
       "       reg_alpha=0, reg_lambda=1, scale_pos_weight=1, seed=None,\n",
       "       silent=True, subsample=1)"
      ]
     },
     "execution_count": 31,
     "metadata": {},
     "output_type": "execute_result"
    }
   ],
   "source": [
    "# Get estimator back with best parameters\n",
    "classifier = gscv.best_estimator_\n",
    "classifier"
   ]
  },
  {
   "cell_type": "code",
   "execution_count": 32,
   "metadata": {},
   "outputs": [
    {
     "name": "stdout",
     "output_type": "stream",
     "text": [
      "\n",
      "+--------------------------------------------------------------------------------------+\n",
      "|  Classification Report with n_estimators = 1300, max_depth = 3, learning_rate = 0.1  |\n",
      "+------------------------------+---------------+-----------+-------------+-------------+\n",
      "|     Class Lable/Averages     |   Precision   |   Recall  |   F1-Score  |   Support   |\n",
      "+------------------------------+---------------+-----------+-------------+-------------+\n",
      "|           negative           |      0.88     |    0.58   |     0.70    |   7569.00   |\n",
      "|           positive           |      0.92     |    0.98   |     0.95    |   37431.00  |\n",
      "|          micro avg           |      0.92     |    0.92   |     0.92    |   45000.00  |\n",
      "|          macro avg           |      0.90     |    0.78   |     0.83    |   45000.00  |\n",
      "|         weighted avg         |      0.91     |    0.92   |     0.91    |   45000.00  |\n",
      "+------------------------------+---------------+-----------+-------------+-------------+\n",
      "\n",
      "\n",
      "--------------- Confusion Matrix of Test Data ---------------\n",
      "\n",
      "\n",
      "ROC-AUC Score on Test Data:  0.9493089621628152\n"
     ]
    },
    {
     "data": {
      "image/png": "[encoded data removed]",
      "text/plain": [
       "<Figure size 432x288 with 2 Axes>"
      ]
     },
     "metadata": {},
     "output_type": "display_data"
    },
    {
     "data": {
      "image/png": "[encoded data removed]",
      "text/plain": [
       "<Figure size 432x288 with 1 Axes>"
      ]
     },
     "metadata": {},
     "output_type": "display_data"
    },
    {
     "name": "stdout",
     "output_type": "stream",
     "text": [
      "\n",
      "\n"
     ]
    }
   ],
   "source": [
    "# Predict and generate reports\n",
    "predict_generate_reports(classifier,gscv,x_train_matrix,x_test_matrix,Y_TRAIN,Y_TEST)\n",
    "\n",
    "print()\n",
    "print()\n",
    "print(\"ROC-AUC Score on Test Data: \",test_roc_auc_score[-1])\n",
    "plt.figure()\n",
    "fpr, tpr, threshold = roc_curve(Y_TEST,classifier.predict_proba(x_test_matrix)[:,1],pos_label=\"positive\")\n",
    "plt.title('Receiver Operating Characteristic on Test Data')\n",
    "plt.plot([0,1],[0,1],linestyle=\"--\")\n",
    "plt.plot(fpr,tpr,marker=\".\")\n",
    "plt.xlabel('False Positive Rate')\n",
    "plt.ylabel('True Positive Rate')\n",
    "plt.show()\n",
    "print()\n",
    "print()\n"
   ]
  },
  {
   "cell_type": "markdown",
   "metadata": {},
   "source": [
    "#### (3.3) Average Word2Vec :"
   ]
  },
  {
   "cell_type": "code",
   "execution_count": 33,
   "metadata": {
    "scrolled": true
   },
   "outputs": [
    {
     "name": "stdout",
     "output_type": "stream",
     "text": [
      "Shape of training data :  (105000,)\n",
      "Shape of testing data :  (45000,)\n",
      "Number of sentences present in training data :  105000\n",
      "Number of sentences present in testing data :  45000\n",
      "Length of vocabulary :  16602\n"
     ]
    },
    {
     "name": "stderr",
     "output_type": "stream",
     "text": [
      "Average Word2Vec - Train data: 100%|██████████████████████████████████| 105000/105000 [01:39<00:00, 1055.45 sentence/s]\n",
      "Average Word2Vec - Test data: 100%|█████████████████████████████████████| 45000/45000 [00:44<00:00, 1006.63 sentence/s]\n"
     ]
    },
    {
     "name": "stdout",
     "output_type": "stream",
     "text": [
      "\n",
      "Shape of training vectorizer :  (105000, 200)\n",
      "Shape of testing vectorizer :  (45000, 200)\n",
      "Wall time: 2min 33s\n"
     ]
    }
   ],
   "source": [
    "%%time\n",
    "\n",
    "# Create our own Word2Vec model from training data.\n",
    "        \n",
    "# Make list of list from training data\n",
    "list_of_sentences_in_train=[]\n",
    "for sentence in X_TRAIN:\n",
    "    list_of_sentences_in_train.append(sentence.split())\n",
    "            \n",
    "# Make list of list from testing data - this will be useful when vectorizing testing data.\n",
    "list_of_sentences_in_test=[]\n",
    "for sentence in X_TEST:\n",
    "    list_of_sentences_in_test.append(sentence.split())\n",
    "            \n",
    "print(\"Shape of training data : \",X_TRAIN.shape)\n",
    "print(\"Shape of testing data : \",X_TEST.shape)\n",
    "print(\"Number of sentences present in training data : \",len(list_of_sentences_in_train))\n",
    "print(\"Number of sentences present in testing data : \",len(list_of_sentences_in_test))\n",
    "        \n",
    "# Generate model\n",
    "w2v_model = Word2Vec(list_of_sentences_in_train,min_count=3,size=200, workers=6)\n",
    "        \n",
    "# List of word in vocabulary \n",
    "w2v_words = list(w2v_model.wv.vocab)\n",
    "print(\"Length of vocabulary : \",len(w2v_words))\n",
    "\n",
    "# Prepare train vectorizer using trained word2vec model\n",
    "train_list = []\n",
    "for sentence in tqdm(list_of_sentences_in_train,unit=\" sentence\",desc='Average Word2Vec - Train data'):\n",
    "    word_2_vec = np.zeros(200)\n",
    "    cnt_words = 0\n",
    "    for word in sentence:\n",
    "        if word in w2v_words:\n",
    "            vec = w2v_model.wv[word]\n",
    "            word_2_vec += vec\n",
    "            cnt_words += 1\n",
    "    if cnt_words != 0 :\n",
    "        word_2_vec /= cnt_words\n",
    "    train_list.append(word_2_vec)\n",
    "        \n",
    "# Prepare test vectorizer using trained word2vec model\n",
    "test_list = []\n",
    "for sentence in tqdm(list_of_sentences_in_test,unit=\" sentence\",desc='Average Word2Vec - Test data'):\n",
    "    word_2_vec = np.zeros(200)\n",
    "    cnt_words = 0\n",
    "    for word in sentence:\n",
    "        if word in w2v_words:\n",
    "            vec = w2v_model.wv[word]\n",
    "            word_2_vec += vec\n",
    "            cnt_words += 1\n",
    "    if cnt_words != 0 :\n",
    "        word_2_vec /= cnt_words\n",
    "    test_list.append(word_2_vec)\n",
    "            \n",
    "avg_w2v_train = np.array(train_list)\n",
    "avg_w2v_test = np.array(test_list)\n",
    "           \n",
    "\n",
    "print(\"\\nShape of training vectorizer : \",avg_w2v_train.shape)\n",
    "print(\"Shape of testing vectorizer : \",avg_w2v_test.shape)"
   ]
  },
  {
   "cell_type": "code",
   "execution_count": 34,
   "metadata": {},
   "outputs": [
    {
     "name": "stdout",
     "output_type": "stream",
     "text": [
      "Fitting 3 folds for each of 84 candidates, totalling 252 fits\n"
     ]
    },
    {
     "name": "stderr",
     "output_type": "stream",
     "text": [
      "[Parallel(n_jobs=-1)]: Using backend LokyBackend with 6 concurrent workers.\n",
      "[Parallel(n_jobs=-1)]: Done  38 tasks      | elapsed: 20.9min\n",
      "[Parallel(n_jobs=-1)]: Done 188 tasks      | elapsed: 140.9min\n",
      "[Parallel(n_jobs=-1)]: Done 252 out of 252 | elapsed: 193.5min finished\n"
     ]
    },
    {
     "name": "stdout",
     "output_type": "stream",
     "text": [
      "\n",
      "Best HyperParameter 'max_depth':  2\n",
      "Best HyperParameter 'learning_rate':  0.1\n",
      "Best HyperParameter 'n_estimators':  1300\n",
      "Best ROC_AUC Score on Train Data:  0.9219202802535383\n",
      "Wall time: 3h 16min 24s\n"
     ]
    }
   ],
   "source": [
    "%%time\n",
    "\n",
    "# Perform GridSearchCV\n",
    "gscv = perform_gridsearch_cv(xgbClassifier,parameters,avg_w2v_train,Y_TRAIN)"
   ]
  },
  {
   "cell_type": "code",
   "execution_count": 35,
   "metadata": {},
   "outputs": [
    {
     "data": {
      "text/plain": [
       "XGBClassifier(base_score=0.5, booster='gbtree', colsample_bylevel=1,\n",
       "       colsample_bytree=1, gamma=0, learning_rate=0.1, max_delta_step=0,\n",
       "       max_depth=2, min_child_weight=1, missing=None, n_estimators=1300,\n",
       "       n_jobs=6, nthread=None, objective='binary:logistic', random_state=0,\n",
       "       reg_alpha=0, reg_lambda=1, scale_pos_weight=1, seed=None,\n",
       "       silent=True, subsample=1)"
      ]
     },
     "execution_count": 35,
     "metadata": {},
     "output_type": "execute_result"
    }
   ],
   "source": [
    "# Get estimator back with best parameters\n",
    "classifier = gscv.best_estimator_\n",
    "classifier"
   ]
  },
  {
   "cell_type": "code",
   "execution_count": 36,
   "metadata": {},
   "outputs": [
    {
     "name": "stdout",
     "output_type": "stream",
     "text": [
      "\n",
      "+--------------------------------------------------------------------------------------+\n",
      "|  Classification Report with n_estimators = 1300, max_depth = 2, learning_rate = 0.1  |\n",
      "+------------------------------+---------------+-----------+-------------+-------------+\n",
      "|     Class Lable/Averages     |   Precision   |   Recall  |   F1-Score  |   Support   |\n",
      "+------------------------------+---------------+-----------+-------------+-------------+\n",
      "|           negative           |      0.79     |    0.55   |     0.65    |   7569.00   |\n",
      "|           positive           |      0.91     |    0.97   |     0.94    |   37431.00  |\n",
      "|          micro avg           |      0.90     |    0.90   |     0.90    |   45000.00  |\n",
      "|          macro avg           |      0.85     |    0.76   |     0.80    |   45000.00  |\n",
      "|         weighted avg         |      0.89     |    0.90   |     0.89    |   45000.00  |\n",
      "+------------------------------+---------------+-----------+-------------+-------------+\n",
      "\n",
      "\n",
      "--------------- Confusion Matrix of Test Data ---------------\n",
      "\n",
      "\n",
      "ROC-AUC Score on Test Data:  0.9268064009786638\n"
     ]
    },
    {
     "data": {
      "image/png": "[encoded data removed]",
      "text/plain": [
       "<Figure size 432x288 with 2 Axes>"
      ]
     },
     "metadata": {},
     "output_type": "display_data"
    },
    {
     "data": {
      "image/png": "[encoded data removed]",
      "text/plain": [
       "<Figure size 432x288 with 1 Axes>"
      ]
     },
     "metadata": {},
     "output_type": "display_data"
    },
    {
     "name": "stdout",
     "output_type": "stream",
     "text": [
      "\n",
      "\n"
     ]
    }
   ],
   "source": [
    "# Predict and generate reports\n",
    "predict_generate_reports(classifier,gscv,avg_w2v_train,avg_w2v_test,Y_TRAIN,Y_TEST)\n",
    "\n",
    "print()\n",
    "print()\n",
    "print(\"ROC-AUC Score on Test Data: \",test_roc_auc_score[-1])\n",
    "plt.figure()\n",
    "fpr, tpr, threshold = roc_curve(Y_TEST,classifier.predict_proba(avg_w2v_test)[:,1],pos_label=\"positive\")\n",
    "plt.title('Receiver Operating Characteristic on Test Data')\n",
    "plt.plot([0,1],[0,1],linestyle=\"--\")\n",
    "plt.plot(fpr,tpr,marker=\".\")\n",
    "plt.xlabel('False Positive Rate')\n",
    "plt.ylabel('True Positive Rate')\n",
    "plt.show()\n",
    "print()\n",
    "print()"
   ]
  },
  {
   "cell_type": "markdown",
   "metadata": {},
   "source": [
    "#### (3.4) Term Frequency - Inverse Document Frequency Weighted Word2Vec(TF-IDF Word2Vec) :"
   ]
  },
  {
   "cell_type": "code",
   "execution_count": 37,
   "metadata": {
    "scrolled": true
   },
   "outputs": [
    {
     "name": "stderr",
     "output_type": "stream",
     "text": [
      "TF-IDF Weighted Word2Vec - Train data: 100%|██████████████████████████| 105000/105000 [00:31<00:00, 3350.30 sentence/s]\n",
      "TF-IDF Weighted Word2Vec - Test data: 100%|█████████████████████████████| 45000/45000 [00:13<00:00, 3307.56 sentence/s]\n"
     ]
    },
    {
     "name": "stdout",
     "output_type": "stream",
     "text": [
      "\n",
      "Shape of training vectorizer :  (105000, 200)\n",
      "Shape of testing vectorizer :  (45000, 200)\n",
      "Wall time: 1min 10s\n"
     ]
    }
   ],
   "source": [
    "%%time\n",
    "\n",
    "# Make list of list from training data.      \n",
    "sentences_in_train=[]\n",
    "for sentence in X_TRAIN:\n",
    "    sentences_in_train.append(sentence.split())\n",
    "\n",
    "# Make list of list from testing data - this will be useful when vectorizing testing data.\n",
    "sentences_in_test=[]\n",
    "for sentence in X_TEST:\n",
    "    sentences_in_test.append(sentence.split())\n",
    "            \n",
    "# Generate model\n",
    "w2v_model = Word2Vec(sentences_in_train,min_count=3,size=200, workers=6)\n",
    "\n",
    "# Instantiate TfidfVectorizer\n",
    "tfidf_vectorizer = TfidfVectorizer(min_df = 3,ngram_range=(1,2))\n",
    "\n",
    "# Tokenize and build vocab\n",
    "tfidf_vectorizer.fit(X_TRAIN)\n",
    "\n",
    "# Encode document\n",
    "x_train_matrix = tfidf_vectorizer.transform(X_TRAIN)\n",
    "\n",
    "# Get feature names\n",
    "feature_names = tfidf_vectorizer.get_feature_names()\n",
    "\n",
    "# Dictionary with word as a key, and the idf as a value\n",
    "dict_word_idf = dict(zip(feature_names, list(tfidf_vectorizer.idf_)))\n",
    "\n",
    "# Prepare train vectorizer using trained word2vec model        \n",
    "train_list = []\n",
    "row = 0\n",
    "for sentence in tqdm(sentences_in_train,unit=\" sentence\",desc='TF-IDF Weighted Word2Vec - Train data'):\n",
    "    word_2_vec = np.zeros(200)\n",
    "    weight_tfidf_sum = 0\n",
    "    for word in sentence:\n",
    "        try:\n",
    "            vec = w2v_model.wv[word]\n",
    "            # dict_word_idf[word] = idf value of word in whole courpus\n",
    "            # sentence.count(word) = tf valeus of word in this review\n",
    "            tfidf_value =  dict_word_idf[word]*sentence.count(word)\n",
    "            word_2_vec += (vec * tfidf_value)\n",
    "            weight_tfidf_sum += tfidf_value\n",
    "        except:\n",
    "            pass\n",
    "    if weight_tfidf_sum != 0:\n",
    "        word_2_vec /= weight_tfidf_sum\n",
    "    train_list.append(word_2_vec)\n",
    "    row += 1\n",
    "        \n",
    "# Prepare test vectorizer using trained word2vec model\n",
    "test_list = []\n",
    "row = 0\n",
    "for sentence in tqdm(sentences_in_test, unit=\" sentence\",desc='TF-IDF Weighted Word2Vec - Test data'):\n",
    "    word_2_vec = np.zeros(200)\n",
    "    weight_tfidf_sum = 0\n",
    "    for word in sentence:\n",
    "        try:\n",
    "            vec = w2v_model.wv[word]\n",
    "            # dict_word_idf[word] = idf value of word in whole courpus\n",
    "            # sentence.count(word) = tf valeus of word in this review\n",
    "            tfidf_value =  dict_word_idf[word]*sentence.count(word)\n",
    "            word_2_vec += (vec * tfidf_value)\n",
    "            weight_tfidf_sum += tfidf_value\n",
    "        except:\n",
    "            pass\n",
    "    if weight_tfidf_sum != 0:\n",
    "        word_2_vec /= weight_tfidf_sum\n",
    "    test_list.append(word_2_vec)\n",
    "    row += 1\n",
    "        \n",
    "tfidf_w2v_train = np.array(train_list)\n",
    "tfidf_w2v_test = np.array(test_list)\n",
    "\n",
    "\n",
    "print(\"\\nShape of training vectorizer : \",tfidf_w2v_train.shape)\n",
    "print(\"Shape of testing vectorizer : \",tfidf_w2v_test.shape)"
   ]
  },
  {
   "cell_type": "code",
   "execution_count": 38,
   "metadata": {},
   "outputs": [
    {
     "name": "stdout",
     "output_type": "stream",
     "text": [
      "Fitting 3 folds for each of 84 candidates, totalling 252 fits\n"
     ]
    },
    {
     "name": "stderr",
     "output_type": "stream",
     "text": [
      "[Parallel(n_jobs=-1)]: Using backend LokyBackend with 6 concurrent workers.\n",
      "[Parallel(n_jobs=-1)]: Done  38 tasks      | elapsed: 20.8min\n",
      "[Parallel(n_jobs=-1)]: Done 188 tasks      | elapsed: 140.8min\n",
      "[Parallel(n_jobs=-1)]: Done 252 out of 252 | elapsed: 194.3min finished\n"
     ]
    },
    {
     "name": "stdout",
     "output_type": "stream",
     "text": [
      "\n",
      "Best HyperParameter 'max_depth':  3\n",
      "Best HyperParameter 'learning_rate':  0.1\n",
      "Best HyperParameter 'n_estimators':  1100\n",
      "Best ROC_AUC Score on Train Data:  0.9016922392605504\n",
      "Wall time: 3h 17min 56s\n"
     ]
    }
   ],
   "source": [
    "%%time\n",
    "\n",
    "# Perform GridSearchCV\n",
    "gscv = perform_gridsearch_cv(xgbClassifier,parameters,tfidf_w2v_train,Y_TRAIN)"
   ]
  },
  {
   "cell_type": "code",
   "execution_count": 39,
   "metadata": {},
   "outputs": [
    {
     "data": {
      "text/plain": [
       "XGBClassifier(base_score=0.5, booster='gbtree', colsample_bylevel=1,\n",
       "       colsample_bytree=1, gamma=0, learning_rate=0.1, max_delta_step=0,\n",
       "       max_depth=3, min_child_weight=1, missing=None, n_estimators=1100,\n",
       "       n_jobs=6, nthread=None, objective='binary:logistic', random_state=0,\n",
       "       reg_alpha=0, reg_lambda=1, scale_pos_weight=1, seed=None,\n",
       "       silent=True, subsample=1)"
      ]
     },
     "execution_count": 39,
     "metadata": {},
     "output_type": "execute_result"
    }
   ],
   "source": [
    "# Get estimator back with best parameters\n",
    "classifier = gscv.best_estimator_\n",
    "classifier"
   ]
  },
  {
   "cell_type": "code",
   "execution_count": 40,
   "metadata": {},
   "outputs": [
    {
     "name": "stdout",
     "output_type": "stream",
     "text": [
      "\n",
      "+--------------------------------------------------------------------------------------+\n",
      "|  Classification Report with n_estimators = 1100, max_depth = 3, learning_rate = 0.1  |\n",
      "+------------------------------+---------------+-----------+-------------+-------------+\n",
      "|     Class Lable/Averages     |   Precision   |   Recall  |   F1-Score  |   Support   |\n",
      "+------------------------------+---------------+-----------+-------------+-------------+\n",
      "|           negative           |      0.77     |    0.50   |     0.60    |   7569.00   |\n",
      "|           positive           |      0.90     |    0.97   |     0.94    |   37431.00  |\n",
      "|          micro avg           |      0.89     |    0.89   |     0.89    |   45000.00  |\n",
      "|          macro avg           |      0.84     |    0.73   |     0.77    |   45000.00  |\n",
      "|         weighted avg         |      0.88     |    0.89   |     0.88    |   45000.00  |\n",
      "+------------------------------+---------------+-----------+-------------+-------------+\n",
      "\n",
      "\n",
      "--------------- Confusion Matrix of Test Data ---------------\n",
      "\n",
      "\n",
      "ROC-AUC Score on Test Data:  0.9088224142436617\n"
     ]
    },
    {
     "data": {
      "image/png": "[encoded data removed]",
      "text/plain": [
       "<Figure size 432x288 with 2 Axes>"
      ]
     },
     "metadata": {},
     "output_type": "display_data"
    },
    {
     "data": {
      "image/png": "[encoded data removed]",
      "text/plain": [
       "<Figure size 432x288 with 1 Axes>"
      ]
     },
     "metadata": {},
     "output_type": "display_data"
    },
    {
     "name": "stdout",
     "output_type": "stream",
     "text": [
      "\n",
      "\n"
     ]
    }
   ],
   "source": [
    "# Predict and generate reports\n",
    "predict_generate_reports(classifier,gscv,tfidf_w2v_train,tfidf_w2v_test,Y_TRAIN,Y_TEST)\n",
    "\n",
    "print()\n",
    "print()\n",
    "print(\"ROC-AUC Score on Test Data: \",test_roc_auc_score[-1])\n",
    "plt.figure()\n",
    "fpr, tpr, threshold = roc_curve(Y_TEST,classifier.predict_proba(tfidf_w2v_test)[:,1],pos_label=\"positive\")\n",
    "plt.title('Receiver Operating Characteristic on Test Data')\n",
    "plt.plot([0,1],[0,1],linestyle=\"--\")\n",
    "plt.plot(fpr,tpr,marker=\".\")\n",
    "plt.xlabel('False Positive Rate')\n",
    "plt.ylabel('True Positive Rate')\n",
    "plt.show()\n",
    "print()\n",
    "print()"
   ]
  },
  {
   "cell_type": "markdown",
   "metadata": {},
   "source": [
    "---\n",
    "### Conclusion :\n",
    "---"
   ]
  },
  {
   "cell_type": "code",
   "execution_count": 44,
   "metadata": {
    "scrolled": false
   },
   "outputs": [
    {
     "name": "stdout",
     "output_type": "stream",
     "text": [
      "+--------------------------------------------------------------------------------------------------------------+\n",
      "|                                      *** Conclusion - GBDT(XGBOOST) ***                                      |\n",
      "+------------------------+--------------+---------------+-----------+---------------------+--------------------+\n",
      "|         Model          | n_estimators | learning_rate | max_depth | Train ROC-AUC Score | Test ROC-AUC Score |\n",
      "+------------------------+--------------+---------------+-----------+---------------------+--------------------+\n",
      "|      BOW:XGBOOST       |     1300     |      0.1      |     3     |  0.9633664513720004 | 0.9411684840574354 |\n",
      "|     TFIDF:XGBOOST      |     1300     |      0.1      |     3     |  0.9723346178608838 | 0.9493089621628152 |\n",
      "|  AVG-WORD2VEC:XGBOOST  |     1300     |      0.1      |     2     |  0.9484731745096541 | 0.9268064009786638 |\n",
      "| TFIDF-WORD2VEC:XGBOOST |     1100     |      0.1      |     3     |  0.9571633732409064 | 0.9088224142436617 |\n",
      "+------------------------+--------------+---------------+-----------+---------------------+--------------------+\n"
     ]
    }
   ],
   "source": [
    "conclude_GBDT()"
   ]
  },
  {
   "cell_type": "markdown",
   "metadata": {},
   "source": [
    "---\n",
    "### Observations :\n",
    "---"
   ]
  },
  {
   "cell_type": "markdown",
   "metadata": {},
   "source": [
    "> 1. Here, Random Forest and Gradient Boosting Decision Tree is applied on amazon fine food review dataset with time series splitting(~150K).\n",
    "> 2. Given dataset is imbalanced in nature (postive reviews:negative reviews = 5.57/1).\n",
    "> 3. Grid search cross validation with 2/3-fold technique is applied to calculate optimal hyperparameters like max_depth,n_estimators etc.\n",
    "> 4. Random forest produces almost similar result for each vatorization.Accuracy scoring is used as a performance measure.\n",
    "> 5. Whereas in XGBOOST,implementation of GBDT, we have used auc score as a performance measure. \n",
    "> 6. XGBOOST produces excellent results(which is above~0.9) for all vectorizers.\n",
    "> 7. for more information you can always refer to conclusion table above."
   ]
  }
 ],
 "metadata": {
  "kernelspec": {
   "display_name": "Python 3",
   "language": "python",
   "name": "python3"
  },
  "language_info": {
   "codemirror_mode": {
    "name": "ipython",
    "version": 3
   },
   "file_extension": ".py",
   "mimetype": "text/x-python",
   "name": "python",
   "nbconvert_exporter": "python",
   "pygments_lexer": "ipython3",
   "version": "3.6.6"
  }
 },
 "nbformat": 4,
 "nbformat_minor": 2
}
